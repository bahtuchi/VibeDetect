{
 "cells": [
  {
   "cell_type": "markdown",
   "id": "ccdbde90-f6e5-4a25-be26-689e846773e6",
   "metadata": {
    "tags": []
   },
   "source": [
    "\"\"\"\n",
    "\n",
    "# Emotion Classification on Audio Data with PCA and AUC-ROC Evaluation\n",
    "\n",
    "\n",
    "\n",
    "This notebook demonstrates an end-to-end pipeline for classifying emotions from audio data.\n",
    "\n",
    "We use the following steps:\n",
    "\n",
    "\n",
    "\n",
    "1. Load and label the dataset.\n",
    "\n",
    "2. Extract MFCC features from audio files.\n",
    "\n",
    "3. Apply PCA for dimensionality reduction.\n",
    "\n",
    "4. Build an LSTM model for classification.\n",
    "\n",
    "5. Evaluate the model with AUC-ROC and save the model.\n",
    "\n",
    "6. Run the model on new .wav files and visualize results using ROC curves.\n",
    "\n",
    "\n",
    "\n",
    "---\n",
    "\n",
    "\n",
    "\n",
    "\"\"\""
   ]
  },
  {
   "cell_type": "code",
   "execution_count": 1,
   "id": "9f522b72-d9b6-42ce-88d9-679e28cf0865",
   "metadata": {
    "tags": []
   },
   "outputs": [
    {
     "name": "stdout",
     "output_type": "stream",
     "text": [
      "Requirement already satisfied: pandas in /Users/omedbahtuchi/anaconda3/lib/python3.10/site-packages (2.2.3)\n",
      "Requirement already satisfied: numpy in /Users/omedbahtuchi/anaconda3/lib/python3.10/site-packages (1.26.4)\n",
      "Collecting numpy\n",
      "  Downloading numpy-2.1.3-cp310-cp310-macosx_14_0_arm64.whl (5.4 MB)\n",
      "\u001b[2K     \u001b[90m━━━━━━━━━━━━━━━━━━━━━━━━━━━━━━━━━━━━━━━━\u001b[0m \u001b[32m5.4/5.4 MB\u001b[0m \u001b[31m11.6 MB/s\u001b[0m eta \u001b[36m0:00:00\u001b[0ma \u001b[36m0:00:01\u001b[0m\n",
      "\u001b[?25hRequirement already satisfied: seaborn in /Users/omedbahtuchi/anaconda3/lib/python3.10/site-packages (0.13.2)\n",
      "Requirement already satisfied: matplotlib in /Users/omedbahtuchi/anaconda3/lib/python3.10/site-packages (3.9.2)\n",
      "Requirement already satisfied: librosa in /Users/omedbahtuchi/anaconda3/lib/python3.10/site-packages (0.10.2.post1)\n",
      "Requirement already satisfied: keras in /Users/omedbahtuchi/anaconda3/lib/python3.10/site-packages (3.6.0)\n",
      "Requirement already satisfied: tensorflow-macos in /Users/omedbahtuchi/anaconda3/lib/python3.10/site-packages (2.16.2)\n",
      "Requirement already satisfied: tzdata>=2022.7 in /Users/omedbahtuchi/anaconda3/lib/python3.10/site-packages (from pandas) (2023.3)\n",
      "Requirement already satisfied: pytz>=2020.1 in /Users/omedbahtuchi/anaconda3/lib/python3.10/site-packages (from pandas) (2022.7)\n",
      "Requirement already satisfied: python-dateutil>=2.8.2 in /Users/omedbahtuchi/anaconda3/lib/python3.10/site-packages (from pandas) (2.8.2)\n",
      "Requirement already satisfied: cycler>=0.10 in /Users/omedbahtuchi/anaconda3/lib/python3.10/site-packages (from matplotlib) (0.11.0)\n",
      "Requirement already satisfied: packaging>=20.0 in /Users/omedbahtuchi/anaconda3/lib/python3.10/site-packages (from matplotlib) (23.0)\n",
      "Requirement already satisfied: pillow>=8 in /Users/omedbahtuchi/anaconda3/lib/python3.10/site-packages (from matplotlib) (9.4.0)\n",
      "Requirement already satisfied: kiwisolver>=1.3.1 in /Users/omedbahtuchi/anaconda3/lib/python3.10/site-packages (from matplotlib) (1.4.4)\n",
      "Requirement already satisfied: fonttools>=4.22.0 in /Users/omedbahtuchi/anaconda3/lib/python3.10/site-packages (from matplotlib) (4.25.0)\n",
      "Requirement already satisfied: contourpy>=1.0.1 in /Users/omedbahtuchi/anaconda3/lib/python3.10/site-packages (from matplotlib) (1.0.5)\n",
      "Requirement already satisfied: pyparsing>=2.3.1 in /Users/omedbahtuchi/anaconda3/lib/python3.10/site-packages (from matplotlib) (3.0.9)\n",
      "Requirement already satisfied: typing-extensions>=4.1.1 in /Users/omedbahtuchi/anaconda3/lib/python3.10/site-packages (from librosa) (4.12.1)\n",
      "Requirement already satisfied: msgpack>=1.0 in /Users/omedbahtuchi/anaconda3/lib/python3.10/site-packages (from librosa) (1.1.0)\n",
      "Requirement already satisfied: joblib>=0.14 in /Users/omedbahtuchi/anaconda3/lib/python3.10/site-packages (from librosa) (1.4.2)\n",
      "Requirement already satisfied: numba>=0.51.0 in /Users/omedbahtuchi/anaconda3/lib/python3.10/site-packages (from librosa) (0.59.1)\n",
      "Requirement already satisfied: decorator>=4.3.0 in /Users/omedbahtuchi/anaconda3/lib/python3.10/site-packages (from librosa) (5.1.1)\n",
      "Requirement already satisfied: pooch>=1.1 in /Users/omedbahtuchi/anaconda3/lib/python3.10/site-packages (from librosa) (1.8.2)\n",
      "Requirement already satisfied: soundfile>=0.12.1 in /Users/omedbahtuchi/anaconda3/lib/python3.10/site-packages (from librosa) (0.12.1)\n",
      "Requirement already satisfied: scipy>=1.2.0 in /Users/omedbahtuchi/anaconda3/lib/python3.10/site-packages (from librosa) (1.10.1)\n",
      "Requirement already satisfied: soxr>=0.3.2 in /Users/omedbahtuchi/anaconda3/lib/python3.10/site-packages (from librosa) (0.5.0.post1)\n",
      "Requirement already satisfied: lazy-loader>=0.1 in /Users/omedbahtuchi/anaconda3/lib/python3.10/site-packages (from librosa) (0.4)\n",
      "Requirement already satisfied: audioread>=2.1.9 in /Users/omedbahtuchi/anaconda3/lib/python3.10/site-packages (from librosa) (3.0.1)\n",
      "Requirement already satisfied: scikit-learn>=0.20.0 in /Users/omedbahtuchi/anaconda3/lib/python3.10/site-packages (from librosa) (1.5.2)\n",
      "Requirement already satisfied: namex in /Users/omedbahtuchi/anaconda3/lib/python3.10/site-packages (from keras) (0.0.8)\n",
      "Requirement already satisfied: optree in /Users/omedbahtuchi/anaconda3/lib/python3.10/site-packages (from keras) (0.13.0)\n",
      "Requirement already satisfied: h5py in /Users/omedbahtuchi/anaconda3/lib/python3.10/site-packages (from keras) (3.12.1)\n",
      "Requirement already satisfied: absl-py in /Users/omedbahtuchi/anaconda3/lib/python3.10/site-packages (from keras) (2.1.0)\n",
      "Requirement already satisfied: rich in /Users/omedbahtuchi/anaconda3/lib/python3.10/site-packages (from keras) (13.9.3)\n",
      "Requirement already satisfied: ml-dtypes in /Users/omedbahtuchi/anaconda3/lib/python3.10/site-packages (from keras) (0.3.2)\n",
      "Requirement already satisfied: tensorflow==2.16.2 in /Users/omedbahtuchi/anaconda3/lib/python3.10/site-packages (from tensorflow-macos) (2.16.2)\n",
      "Requirement already satisfied: google-pasta>=0.1.1 in /Users/omedbahtuchi/anaconda3/lib/python3.10/site-packages (from tensorflow==2.16.2->tensorflow-macos) (0.2.0)\n",
      "Requirement already satisfied: opt-einsum>=2.3.2 in /Users/omedbahtuchi/anaconda3/lib/python3.10/site-packages (from tensorflow==2.16.2->tensorflow-macos) (3.4.0)\n",
      "Requirement already satisfied: protobuf!=4.21.0,!=4.21.1,!=4.21.2,!=4.21.3,!=4.21.4,!=4.21.5,<5.0.0dev,>=3.20.3 in /Users/omedbahtuchi/anaconda3/lib/python3.10/site-packages (from tensorflow==2.16.2->tensorflow-macos) (4.25.5)\n",
      "Requirement already satisfied: requests<3,>=2.21.0 in /Users/omedbahtuchi/anaconda3/lib/python3.10/site-packages (from tensorflow==2.16.2->tensorflow-macos) (2.29.0)\n",
      "Requirement already satisfied: termcolor>=1.1.0 in /Users/omedbahtuchi/anaconda3/lib/python3.10/site-packages (from tensorflow==2.16.2->tensorflow-macos) (2.5.0)\n",
      "Requirement already satisfied: wrapt>=1.11.0 in /Users/omedbahtuchi/anaconda3/lib/python3.10/site-packages (from tensorflow==2.16.2->tensorflow-macos) (1.16.0)\n",
      "Requirement already satisfied: grpcio<2.0,>=1.24.3 in /Users/omedbahtuchi/anaconda3/lib/python3.10/site-packages (from tensorflow==2.16.2->tensorflow-macos) (1.67.1)\n",
      "Requirement already satisfied: tensorflow-io-gcs-filesystem>=0.23.1 in /Users/omedbahtuchi/anaconda3/lib/python3.10/site-packages (from tensorflow==2.16.2->tensorflow-macos) (0.37.1)\n",
      "Requirement already satisfied: setuptools in /Users/omedbahtuchi/anaconda3/lib/python3.10/site-packages (from tensorflow==2.16.2->tensorflow-macos) (65.6.3)\n",
      "Requirement already satisfied: gast!=0.5.0,!=0.5.1,!=0.5.2,>=0.2.1 in /Users/omedbahtuchi/anaconda3/lib/python3.10/site-packages (from tensorflow==2.16.2->tensorflow-macos) (0.6.0)\n",
      "Requirement already satisfied: astunparse>=1.6.0 in /Users/omedbahtuchi/anaconda3/lib/python3.10/site-packages (from tensorflow==2.16.2->tensorflow-macos) (1.6.3)\n",
      "Requirement already satisfied: tensorboard<2.17,>=2.16 in /Users/omedbahtuchi/anaconda3/lib/python3.10/site-packages (from tensorflow==2.16.2->tensorflow-macos) (2.16.2)\n",
      "Requirement already satisfied: six>=1.12.0 in /Users/omedbahtuchi/anaconda3/lib/python3.10/site-packages (from tensorflow==2.16.2->tensorflow-macos) (1.16.0)\n",
      "Requirement already satisfied: flatbuffers>=23.5.26 in /Users/omedbahtuchi/anaconda3/lib/python3.10/site-packages (from tensorflow==2.16.2->tensorflow-macos) (24.3.25)\n",
      "Requirement already satisfied: libclang>=13.0.0 in /Users/omedbahtuchi/anaconda3/lib/python3.10/site-packages (from tensorflow==2.16.2->tensorflow-macos) (18.1.1)\n",
      "Requirement already satisfied: llvmlite<0.43,>=0.42.0dev0 in /Users/omedbahtuchi/anaconda3/lib/python3.10/site-packages (from numba>=0.51.0->librosa) (0.42.0)\n",
      "Requirement already satisfied: platformdirs>=2.5.0 in /Users/omedbahtuchi/anaconda3/lib/python3.10/site-packages (from pooch>=1.1->librosa) (2.5.2)\n",
      "Requirement already satisfied: threadpoolctl>=3.1.0 in /Users/omedbahtuchi/anaconda3/lib/python3.10/site-packages (from scikit-learn>=0.20.0->librosa) (3.5.0)\n",
      "Requirement already satisfied: cffi>=1.0 in /Users/omedbahtuchi/anaconda3/lib/python3.10/site-packages (from soundfile>=0.12.1->librosa) (1.15.1)\n",
      "Requirement already satisfied: markdown-it-py>=2.2.0 in /Users/omedbahtuchi/anaconda3/lib/python3.10/site-packages (from rich->keras) (3.0.0)\n",
      "Requirement already satisfied: pygments<3.0.0,>=2.13.0 in /Users/omedbahtuchi/anaconda3/lib/python3.10/site-packages (from rich->keras) (2.15.1)\n",
      "Requirement already satisfied: wheel<1.0,>=0.23.0 in /Users/omedbahtuchi/anaconda3/lib/python3.10/site-packages (from astunparse>=1.6.0->tensorflow==2.16.2->tensorflow-macos) (0.38.4)\n",
      "Requirement already satisfied: pycparser in /Users/omedbahtuchi/anaconda3/lib/python3.10/site-packages (from cffi>=1.0->soundfile>=0.12.1->librosa) (2.21)\n",
      "Requirement already satisfied: mdurl~=0.1 in /Users/omedbahtuchi/anaconda3/lib/python3.10/site-packages (from markdown-it-py>=2.2.0->rich->keras) (0.1.2)\n",
      "Requirement already satisfied: certifi>=2017.4.17 in /Users/omedbahtuchi/anaconda3/lib/python3.10/site-packages (from requests<3,>=2.21.0->tensorflow==2.16.2->tensorflow-macos) (2023.5.7)\n",
      "Requirement already satisfied: idna<4,>=2.5 in /Users/omedbahtuchi/anaconda3/lib/python3.10/site-packages (from requests<3,>=2.21.0->tensorflow==2.16.2->tensorflow-macos) (3.4)\n",
      "Requirement already satisfied: urllib3<1.27,>=1.21.1 in /Users/omedbahtuchi/anaconda3/lib/python3.10/site-packages (from requests<3,>=2.21.0->tensorflow==2.16.2->tensorflow-macos) (1.26.16)\n",
      "Requirement already satisfied: charset-normalizer<4,>=2 in /Users/omedbahtuchi/anaconda3/lib/python3.10/site-packages (from requests<3,>=2.21.0->tensorflow==2.16.2->tensorflow-macos) (2.0.4)\n",
      "Requirement already satisfied: markdown>=2.6.8 in /Users/omedbahtuchi/anaconda3/lib/python3.10/site-packages (from tensorboard<2.17,>=2.16->tensorflow==2.16.2->tensorflow-macos) (3.7)\n",
      "Requirement already satisfied: tensorboard-data-server<0.8.0,>=0.7.0 in /Users/omedbahtuchi/anaconda3/lib/python3.10/site-packages (from tensorboard<2.17,>=2.16->tensorflow==2.16.2->tensorflow-macos) (0.7.2)\n",
      "Requirement already satisfied: werkzeug>=1.0.1 in /Users/omedbahtuchi/anaconda3/lib/python3.10/site-packages (from tensorboard<2.17,>=2.16->tensorflow==2.16.2->tensorflow-macos) (3.0.6)\n",
      "Requirement already satisfied: MarkupSafe>=2.1.1 in /Users/omedbahtuchi/anaconda3/lib/python3.10/site-packages (from werkzeug>=1.0.1->tensorboard<2.17,>=2.16->tensorflow==2.16.2->tensorflow-macos) (2.1.1)\n"
     ]
    }
   ],
   "source": [
    "!pip install pandas numpy seaborn matplotlib librosa keras tensorflow-macos --upgrade"
   ]
  },
  {
   "cell_type": "code",
   "execution_count": 36,
   "id": "e2eae0ef-2948-41f4-bcbb-87df7eb0d8d5",
   "metadata": {
    "tags": []
   },
   "outputs": [],
   "source": [
    "# Import necessary libraries\n",
    "import os\n",
    "import numpy as np\n",
    "import pandas as pd\n",
    "import seaborn as sns\n",
    "from sklearn.preprocessing import OneHotEncoder\n",
    "from sklearn.decomposition import PCA\n",
    "from sklearn.metrics import roc_auc_score, roc_curve, auc, classification_report\n",
    "from keras.models import Sequential, load_model\n",
    "from keras.layers import Dense, LSTM, Dropout\n",
    "from keras.metrics import AUC\n",
    "import librosa\n",
    "from tqdm import tqdm\n",
    "import warnings\n",
    "import matplotlib.pyplot as plt\n",
    "\n",
    "warnings.filterwarnings('ignore')\n"
   ]
  },
  {
   "cell_type": "code",
   "execution_count": 19,
   "id": "1acee945-3ea0-47a3-9744-94c9e1567d17",
   "metadata": {
    "tags": []
   },
   "outputs": [
    {
     "data": {
      "text/html": [
       "<div>\n",
       "<style scoped>\n",
       "    .dataframe tbody tr th:only-of-type {\n",
       "        vertical-align: middle;\n",
       "    }\n",
       "\n",
       "    .dataframe tbody tr th {\n",
       "        vertical-align: top;\n",
       "    }\n",
       "\n",
       "    .dataframe thead th {\n",
       "        text-align: right;\n",
       "    }\n",
       "</style>\n",
       "<table border=\"1\" class=\"dataframe\">\n",
       "  <thead>\n",
       "    <tr style=\"text-align: right;\">\n",
       "      <th></th>\n",
       "      <th>SpeakerID</th>\n",
       "      <th>Emotion</th>\n",
       "      <th>Path</th>\n",
       "    </tr>\n",
       "  </thead>\n",
       "  <tbody>\n",
       "    <tr>\n",
       "      <th>0</th>\n",
       "      <td>16</td>\n",
       "      <td>boredom</td>\n",
       "      <td>../wav/16a02Lb.wav</td>\n",
       "    </tr>\n",
       "    <tr>\n",
       "      <th>1</th>\n",
       "      <td>14</td>\n",
       "      <td>anger</td>\n",
       "      <td>../wav/14a07Wc.wav</td>\n",
       "    </tr>\n",
       "    <tr>\n",
       "      <th>2</th>\n",
       "      <td>10</td>\n",
       "      <td>anxiety</td>\n",
       "      <td>../wav/10a07Ad.wav</td>\n",
       "    </tr>\n",
       "    <tr>\n",
       "      <th>3</th>\n",
       "      <td>13</td>\n",
       "      <td>disgust</td>\n",
       "      <td>../wav/13a05Ea.wav</td>\n",
       "    </tr>\n",
       "    <tr>\n",
       "      <th>4</th>\n",
       "      <td>14</td>\n",
       "      <td>anger</td>\n",
       "      <td>../wav/14a05Wa.wav</td>\n",
       "    </tr>\n",
       "  </tbody>\n",
       "</table>\n",
       "</div>"
      ],
      "text/plain": [
       "   SpeakerID  Emotion                Path\n",
       "0         16  boredom  ../wav/16a02Lb.wav\n",
       "1         14    anger  ../wav/14a07Wc.wav\n",
       "2         10  anxiety  ../wav/10a07Ad.wav\n",
       "3         13  disgust  ../wav/13a05Ea.wav\n",
       "4         14    anger  ../wav/14a05Wa.wav"
      ]
     },
     "execution_count": 19,
     "metadata": {},
     "output_type": "execute_result"
    }
   ],
   "source": [
    "# Path to dataset\n",
    "PATH = '../wav/'\n",
    "\n",
    "# Emotion codes and their meanings (from German emotion codes)\n",
    "emotion_codes = {\n",
    "    'W': 'anger',\n",
    "    'L': 'boredom',\n",
    "    'E': 'disgust',\n",
    "    'A': 'anxiety',\n",
    "    'F': 'happiness',\n",
    "    'T': 'sadness',\n",
    "    'N': 'neutral'\n",
    "}\n",
    "\n",
    "# Variables to hold data\n",
    "file_emotion = []\n",
    "file_path = []\n",
    "speakers = []\n",
    "\n",
    "# List of audio files in the directory\n",
    "directory_list = os.listdir(PATH)\n",
    "\n",
    "# metadata extraction including SpeakerID and Emotion\n",
    "for file in directory_list:\n",
    "    file_path.append(PATH + file)\n",
    "    speakers.append(int(file[:2]))  # Speaker ID is the first two characters\n",
    "    emotion_code = file[5]  # Emotion code is the sixth character\n",
    "    file_emotion.append(emotion_codes.get(emotion_code, 'Unknown'))  # Map emotion code to emotion\n",
    "\n",
    "\n",
    "\n",
    "# Create DataFrame with metadata\n",
    "emodb_df = pd.DataFrame(list(zip(speakers, file_emotion, file_path)),\n",
    "                        columns=['SpeakerID', 'Emotion', 'Path'])\n",
    "\n",
    "emodb_df.head()"
   ]
  },
  {
   "cell_type": "code",
   "execution_count": 24,
   "id": "fea26643-e1f1-4e24-aba8-e6ff7ef3d88c",
   "metadata": {
    "tags": []
   },
   "outputs": [
    {
     "data": {
      "text/plain": [
       "Emotion\n",
       "anger        127\n",
       "boredom       81\n",
       "neutral       79\n",
       "happiness     71\n",
       "anxiety       69\n",
       "sadness       62\n",
       "disgust       46\n",
       "Name: count, dtype: int64"
      ]
     },
     "execution_count": 24,
     "metadata": {},
     "output_type": "execute_result"
    }
   ],
   "source": [
    "emodb_df['Emotion'].value_counts()"
   ]
  },
  {
   "cell_type": "code",
   "execution_count": 25,
   "id": "930d93ff-4231-4127-9563-74f97873345c",
   "metadata": {
    "tags": []
   },
   "outputs": [
    {
     "data": {
      "text/plain": [
       "<Axes: xlabel='Emotion', ylabel='count'>"
      ]
     },
     "execution_count": 25,
     "metadata": {},
     "output_type": "execute_result"
    },
    {
     "data": {
      "image/png": "[encoded data removed]",
      "text/plain": [
       "<Figure size 640x480 with 1 Axes>"
      ]
     },
     "metadata": {},
     "output_type": "display_data"
    }
   ],
   "source": [
    "sns.countplot(data=emodb_df, x='Emotion')"
   ]
  },
  {
   "cell_type": "code",
   "execution_count": 27,
   "id": "a6746fde-d057-475f-bbd2-5a7dc5168dbf",
   "metadata": {
    "tags": []
   },
   "outputs": [
    {
     "name": "stderr",
     "output_type": "stream",
     "text": [
      "Extracting MFCCs: 100%|██████████| 535/535 [00:05<00:00, 103.23it/s]\n"
     ]
    },
    {
     "data": {
      "text/plain": [
       "(535, 40)"
      ]
     },
     "execution_count": 27,
     "metadata": {},
     "output_type": "execute_result"
    }
   ],
   "source": [
    "# Feature extraction function with MFCC\n",
    "def extract_mfcc(filename):\n",
    "    y, sr = librosa.load(filename, duration=3, offset=0.5)\n",
    "    mfcc = librosa.feature.mfcc(y=y, sr=sr, n_mfcc=40)\n",
    "    return np.mean(mfcc.T, axis=0)\n",
    "\n",
    "# Extract MFCC features\n",
    "X_mfcc = np.array([extract_mfcc(path) for path in tqdm(emodb_df['Path'], desc=\"Extracting MFCCs\")])\n",
    "X_mfcc.shape\n"
   ]
  },
  {
   "cell_type": "code",
   "execution_count": 28,
   "id": "109fa59d-1a3d-4ca7-bdf4-84aea9c8178c",
   "metadata": {
    "tags": []
   },
   "outputs": [
    {
     "data": {
      "text/plain": [
       "(535, 20, 1)"
      ]
     },
     "execution_count": 28,
     "metadata": {},
     "output_type": "execute_result"
    }
   ],
   "source": [
    "# Apply PCA for dimensionality reduction\n",
    "pca = PCA(n_components=20)  # Reducing to 20 components for efficiency\n",
    "X_pca = pca.fit_transform(X_mfcc)\n",
    "\n",
    "\n",
    "\n",
    "# Reshape data for LSTM input\n",
    "X = np.expand_dims(X_pca, -1)\n",
    "X.shape\n"
   ]
  },
  {
   "cell_type": "code",
   "execution_count": 29,
   "id": "df957485-38d7-49f6-a52b-300366c61610",
   "metadata": {
    "tags": []
   },
   "outputs": [
    {
     "data": {
      "text/plain": [
       "(535, 7)"
      ]
     },
     "execution_count": 29,
     "metadata": {},
     "output_type": "execute_result"
    }
   ],
   "source": [
    "# One-hot encode labels\n",
    "enc = OneHotEncoder()\n",
    "y = enc.fit_transform(emodb_df[['Emotion']]).toarray()\n",
    "y.shape\n"
   ]
  },
  {
   "cell_type": "code",
   "execution_count": 30,
   "id": "ff427a55-02dc-464c-aa57-1f11377f8bd0",
   "metadata": {
    "tags": []
   },
   "outputs": [
    {
     "data": {
      "text/html": [
       "<pre style=\"white-space:pre;overflow-x:auto;line-height:normal;font-family:Menlo,'DejaVu Sans Mono',consolas,'Courier New',monospace\"><span style=\"font-weight: bold\">Model: \"sequential\"</span>\n",
       "</pre>\n"
      ],
      "text/plain": [
       "\u001b[1mModel: \"sequential\"\u001b[0m\n"
      ]
     },
     "metadata": {},
     "output_type": "display_data"
    },
    {
     "data": {
      "text/html": [
       "<pre style=\"white-space:pre;overflow-x:auto;line-height:normal;font-family:Menlo,'DejaVu Sans Mono',consolas,'Courier New',monospace\">┏━━━━━━━━━━━━━━━━━━━━━━━━━━━━━━━━━┳━━━━━━━━━━━━━━━━━━━━━━━━┳━━━━━━━━━━━━━━━┓\n",
       "┃<span style=\"font-weight: bold\"> Layer (type)                    </span>┃<span style=\"font-weight: bold\"> Output Shape           </span>┃<span style=\"font-weight: bold\">       Param # </span>┃\n",
       "┡━━━━━━━━━━━━━━━━━━━━━━━━━━━━━━━━━╇━━━━━━━━━━━━━━━━━━━━━━━━╇━━━━━━━━━━━━━━━┩\n",
       "│ lstm (<span style=\"color: #0087ff; text-decoration-color: #0087ff\">LSTM</span>)                     │ (<span style=\"color: #00d7ff; text-decoration-color: #00d7ff\">None</span>, <span style=\"color: #00af00; text-decoration-color: #00af00\">128</span>)            │        <span style=\"color: #00af00; text-decoration-color: #00af00\">66,560</span> │\n",
       "├─────────────────────────────────┼────────────────────────┼───────────────┤\n",
       "│ dropout (<span style=\"color: #0087ff; text-decoration-color: #0087ff\">Dropout</span>)               │ (<span style=\"color: #00d7ff; text-decoration-color: #00d7ff\">None</span>, <span style=\"color: #00af00; text-decoration-color: #00af00\">128</span>)            │             <span style=\"color: #00af00; text-decoration-color: #00af00\">0</span> │\n",
       "├─────────────────────────────────┼────────────────────────┼───────────────┤\n",
       "│ dense (<span style=\"color: #0087ff; text-decoration-color: #0087ff\">Dense</span>)                   │ (<span style=\"color: #00d7ff; text-decoration-color: #00d7ff\">None</span>, <span style=\"color: #00af00; text-decoration-color: #00af00\">64</span>)             │         <span style=\"color: #00af00; text-decoration-color: #00af00\">8,256</span> │\n",
       "├─────────────────────────────────┼────────────────────────┼───────────────┤\n",
       "│ dropout_1 (<span style=\"color: #0087ff; text-decoration-color: #0087ff\">Dropout</span>)             │ (<span style=\"color: #00d7ff; text-decoration-color: #00d7ff\">None</span>, <span style=\"color: #00af00; text-decoration-color: #00af00\">64</span>)             │             <span style=\"color: #00af00; text-decoration-color: #00af00\">0</span> │\n",
       "├─────────────────────────────────┼────────────────────────┼───────────────┤\n",
       "│ dense_1 (<span style=\"color: #0087ff; text-decoration-color: #0087ff\">Dense</span>)                 │ (<span style=\"color: #00d7ff; text-decoration-color: #00d7ff\">None</span>, <span style=\"color: #00af00; text-decoration-color: #00af00\">7</span>)              │           <span style=\"color: #00af00; text-decoration-color: #00af00\">455</span> │\n",
       "└─────────────────────────────────┴────────────────────────┴───────────────┘\n",
       "</pre>\n"
      ],
      "text/plain": [
       "┏━━━━━━━━━━━━━━━━━━━━━━━━━━━━━━━━━┳━━━━━━━━━━━━━━━━━━━━━━━━┳━━━━━━━━━━━━━━━┓\n",
       "┃\u001b[1m \u001b[0m\u001b[1mLayer (type)                   \u001b[0m\u001b[1m \u001b[0m┃\u001b[1m \u001b[0m\u001b[1mOutput Shape          \u001b[0m\u001b[1m \u001b[0m┃\u001b[1m \u001b[0m\u001b[1m      Param #\u001b[0m\u001b[1m \u001b[0m┃\n",
       "┡━━━━━━━━━━━━━━━━━━━━━━━━━━━━━━━━━╇━━━━━━━━━━━━━━━━━━━━━━━━╇━━━━━━━━━━━━━━━┩\n",
       "│ lstm (\u001b[38;5;33mLSTM\u001b[0m)                     │ (\u001b[38;5;45mNone\u001b[0m, \u001b[38;5;34m128\u001b[0m)            │        \u001b[38;5;34m66,560\u001b[0m │\n",
       "├─────────────────────────────────┼────────────────────────┼───────────────┤\n",
       "│ dropout (\u001b[38;5;33mDropout\u001b[0m)               │ (\u001b[38;5;45mNone\u001b[0m, \u001b[38;5;34m128\u001b[0m)            │             \u001b[38;5;34m0\u001b[0m │\n",
       "├─────────────────────────────────┼────────────────────────┼───────────────┤\n",
       "│ dense (\u001b[38;5;33mDense\u001b[0m)                   │ (\u001b[38;5;45mNone\u001b[0m, \u001b[38;5;34m64\u001b[0m)             │         \u001b[38;5;34m8,256\u001b[0m │\n",
       "├─────────────────────────────────┼────────────────────────┼───────────────┤\n",
       "│ dropout_1 (\u001b[38;5;33mDropout\u001b[0m)             │ (\u001b[38;5;45mNone\u001b[0m, \u001b[38;5;34m64\u001b[0m)             │             \u001b[38;5;34m0\u001b[0m │\n",
       "├─────────────────────────────────┼────────────────────────┼───────────────┤\n",
       "│ dense_1 (\u001b[38;5;33mDense\u001b[0m)                 │ (\u001b[38;5;45mNone\u001b[0m, \u001b[38;5;34m7\u001b[0m)              │           \u001b[38;5;34m455\u001b[0m │\n",
       "└─────────────────────────────────┴────────────────────────┴───────────────┘\n"
      ]
     },
     "metadata": {},
     "output_type": "display_data"
    },
    {
     "data": {
      "text/html": [
       "<pre style=\"white-space:pre;overflow-x:auto;line-height:normal;font-family:Menlo,'DejaVu Sans Mono',consolas,'Courier New',monospace\"><span style=\"font-weight: bold\"> Total params: </span><span style=\"color: #00af00; text-decoration-color: #00af00\">75,271</span> (294.03 KB)\n",
       "</pre>\n"
      ],
      "text/plain": [
       "\u001b[1m Total params: \u001b[0m\u001b[38;5;34m75,271\u001b[0m (294.03 KB)\n"
      ]
     },
     "metadata": {},
     "output_type": "display_data"
    },
    {
     "data": {
      "text/html": [
       "<pre style=\"white-space:pre;overflow-x:auto;line-height:normal;font-family:Menlo,'DejaVu Sans Mono',consolas,'Courier New',monospace\"><span style=\"font-weight: bold\"> Trainable params: </span><span style=\"color: #00af00; text-decoration-color: #00af00\">75,271</span> (294.03 KB)\n",
       "</pre>\n"
      ],
      "text/plain": [
       "\u001b[1m Trainable params: \u001b[0m\u001b[38;5;34m75,271\u001b[0m (294.03 KB)\n"
      ]
     },
     "metadata": {},
     "output_type": "display_data"
    },
    {
     "data": {
      "text/html": [
       "<pre style=\"white-space:pre;overflow-x:auto;line-height:normal;font-family:Menlo,'DejaVu Sans Mono',consolas,'Courier New',monospace\"><span style=\"font-weight: bold\"> Non-trainable params: </span><span style=\"color: #00af00; text-decoration-color: #00af00\">0</span> (0.00 B)\n",
       "</pre>\n"
      ],
      "text/plain": [
       "\u001b[1m Non-trainable params: \u001b[0m\u001b[38;5;34m0\u001b[0m (0.00 B)\n"
      ]
     },
     "metadata": {},
     "output_type": "display_data"
    }
   ],
   "source": [
    "model = Sequential([\n",
    "    LSTM(128, input_shape=(X.shape[1], 1), return_sequences=False),\n",
    "    Dropout(0.3),\n",
    "    Dense(64, activation='relu'),\n",
    "    Dropout(0.2),\n",
    "    Dense(len(emotion_codes), activation='softmax')\n",
    "])\n",
    "\n",
    "model.compile(loss='categorical_crossentropy', optimizer='adam', metrics=[AUC(name=\"auc\")])\n",
    "model.summary()\n"
   ]
  },
  {
   "cell_type": "code",
   "execution_count": 31,
   "id": "0d952399-92c9-452c-bcb8-967f4bb42c9a",
   "metadata": {
    "tags": []
   },
   "outputs": [
    {
     "name": "stdout",
     "output_type": "stream",
     "text": [
      "Epoch 1/50\n",
      "\u001b[1m7/7\u001b[0m \u001b[32m━━━━━━━━━━━━━━━━━━━━\u001b[0m\u001b[37m\u001b[0m \u001b[1m1s\u001b[0m 29ms/step - auc: 0.5708 - loss: 1.9300 - val_auc: 0.5124 - val_loss: 1.9472\n",
      "Epoch 2/50\n",
      "\u001b[1m7/7\u001b[0m \u001b[32m━━━━━━━━━━━━━━━━━━━━\u001b[0m\u001b[37m\u001b[0m \u001b[1m0s\u001b[0m 12ms/step - auc: 0.6499 - loss: 1.8477 - val_auc: 0.5180 - val_loss: 2.0142\n",
      "Epoch 3/50\n",
      "\u001b[1m7/7\u001b[0m \u001b[32m━━━━━━━━━━━━━━━━━━━━\u001b[0m\u001b[37m\u001b[0m \u001b[1m0s\u001b[0m 12ms/step - auc: 0.6622 - loss: 1.8167 - val_auc: 0.5487 - val_loss: 1.9717\n",
      "Epoch 4/50\n",
      "\u001b[1m7/7\u001b[0m \u001b[32m━━━━━━━━━━━━━━━━━━━━\u001b[0m\u001b[37m\u001b[0m \u001b[1m0s\u001b[0m 12ms/step - auc: 0.6879 - loss: 1.7995 - val_auc: 0.5729 - val_loss: 1.9384\n",
      "Epoch 5/50\n",
      "\u001b[1m7/7\u001b[0m \u001b[32m━━━━━━━━━━━━━━━━━━━━\u001b[0m\u001b[37m\u001b[0m \u001b[1m0s\u001b[0m 12ms/step - auc: 0.7021 - loss: 1.7555 - val_auc: 0.6000 - val_loss: 1.9651\n",
      "Epoch 6/50\n",
      "\u001b[1m7/7\u001b[0m \u001b[32m━━━━━━━━━━━━━━━━━━━━\u001b[0m\u001b[37m\u001b[0m \u001b[1m0s\u001b[0m 12ms/step - auc: 0.7371 - loss: 1.6737 - val_auc: 0.6520 - val_loss: 1.8758\n",
      "Epoch 7/50\n",
      "\u001b[1m7/7\u001b[0m \u001b[32m━━━━━━━━━━━━━━━━━━━━\u001b[0m\u001b[37m\u001b[0m \u001b[1m0s\u001b[0m 13ms/step - auc: 0.7932 - loss: 1.5262 - val_auc: 0.7142 - val_loss: 1.7951\n",
      "Epoch 8/50\n",
      "\u001b[1m7/7\u001b[0m \u001b[32m━━━━━━━━━━━━━━━━━━━━\u001b[0m\u001b[37m\u001b[0m \u001b[1m0s\u001b[0m 12ms/step - auc: 0.8090 - loss: 1.4843 - val_auc: 0.7330 - val_loss: 1.7117\n",
      "Epoch 9/50\n",
      "\u001b[1m7/7\u001b[0m \u001b[32m━━━━━━━━━━━━━━━━━━━━\u001b[0m\u001b[37m\u001b[0m \u001b[1m0s\u001b[0m 12ms/step - auc: 0.8187 - loss: 1.4443 - val_auc: 0.7191 - val_loss: 1.7468\n",
      "Epoch 10/50\n",
      "\u001b[1m7/7\u001b[0m \u001b[32m━━━━━━━━━━━━━━━━━━━━\u001b[0m\u001b[37m\u001b[0m \u001b[1m0s\u001b[0m 13ms/step - auc: 0.8228 - loss: 1.4269 - val_auc: 0.7393 - val_loss: 1.7004\n",
      "Epoch 11/50\n",
      "\u001b[1m7/7\u001b[0m \u001b[32m━━━━━━━━━━━━━━━━━━━━\u001b[0m\u001b[37m\u001b[0m \u001b[1m0s\u001b[0m 13ms/step - auc: 0.8335 - loss: 1.3910 - val_auc: 0.7594 - val_loss: 1.6482\n",
      "Epoch 12/50\n",
      "\u001b[1m7/7\u001b[0m \u001b[32m━━━━━━━━━━━━━━━━━━━━\u001b[0m\u001b[37m\u001b[0m \u001b[1m0s\u001b[0m 12ms/step - auc: 0.8440 - loss: 1.3545 - val_auc: 0.7637 - val_loss: 1.6345\n",
      "Epoch 13/50\n",
      "\u001b[1m7/7\u001b[0m \u001b[32m━━━━━━━━━━━━━━━━━━━━\u001b[0m\u001b[37m\u001b[0m \u001b[1m0s\u001b[0m 12ms/step - auc: 0.8439 - loss: 1.3510 - val_auc: 0.7707 - val_loss: 1.6161\n",
      "Epoch 14/50\n",
      "\u001b[1m7/7\u001b[0m \u001b[32m━━━━━━━━━━━━━━━━━━━━\u001b[0m\u001b[37m\u001b[0m \u001b[1m0s\u001b[0m 13ms/step - auc: 0.8574 - loss: 1.2895 - val_auc: 0.7596 - val_loss: 1.6827\n",
      "Epoch 15/50\n",
      "\u001b[1m7/7\u001b[0m \u001b[32m━━━━━━━━━━━━━━━━━━━━\u001b[0m\u001b[37m\u001b[0m \u001b[1m0s\u001b[0m 13ms/step - auc: 0.8594 - loss: 1.2793 - val_auc: 0.7424 - val_loss: 1.7158\n",
      "Epoch 16/50\n",
      "\u001b[1m7/7\u001b[0m \u001b[32m━━━━━━━━━━━━━━━━━━━━\u001b[0m\u001b[37m\u001b[0m \u001b[1m0s\u001b[0m 13ms/step - auc: 0.8415 - loss: 1.3546 - val_auc: 0.7353 - val_loss: 1.7787\n",
      "Epoch 17/50\n",
      "\u001b[1m7/7\u001b[0m \u001b[32m━━━━━━━━━━━━━━━━━━━━\u001b[0m\u001b[37m\u001b[0m \u001b[1m0s\u001b[0m 13ms/step - auc: 0.8629 - loss: 1.2700 - val_auc: 0.7698 - val_loss: 1.6136\n",
      "Epoch 18/50\n",
      "\u001b[1m7/7\u001b[0m \u001b[32m━━━━━━━━━━━━━━━━━━━━\u001b[0m\u001b[37m\u001b[0m \u001b[1m0s\u001b[0m 14ms/step - auc: 0.8710 - loss: 1.2461 - val_auc: 0.7728 - val_loss: 1.6139\n",
      "Epoch 19/50\n",
      "\u001b[1m7/7\u001b[0m \u001b[32m━━━━━━━━━━━━━━━━━━━━\u001b[0m\u001b[37m\u001b[0m \u001b[1m0s\u001b[0m 13ms/step - auc: 0.8677 - loss: 1.2505 - val_auc: 0.7818 - val_loss: 1.5968\n",
      "Epoch 20/50\n",
      "\u001b[1m7/7\u001b[0m \u001b[32m━━━━━━━━━━━━━━━━━━━━\u001b[0m\u001b[37m\u001b[0m \u001b[1m0s\u001b[0m 13ms/step - auc: 0.8739 - loss: 1.2211 - val_auc: 0.7841 - val_loss: 1.6058\n",
      "Epoch 21/50\n",
      "\u001b[1m7/7\u001b[0m \u001b[32m━━━━━━━━━━━━━━━━━━━━\u001b[0m\u001b[37m\u001b[0m \u001b[1m0s\u001b[0m 13ms/step - auc: 0.8888 - loss: 1.1530 - val_auc: 0.7792 - val_loss: 1.6008\n",
      "Epoch 22/50\n",
      "\u001b[1m7/7\u001b[0m \u001b[32m━━━━━━━━━━━━━━━━━━━━\u001b[0m\u001b[37m\u001b[0m \u001b[1m0s\u001b[0m 13ms/step - auc: 0.8804 - loss: 1.1964 - val_auc: 0.7903 - val_loss: 1.5860\n",
      "Epoch 23/50\n",
      "\u001b[1m7/7\u001b[0m \u001b[32m━━━━━━━━━━━━━━━━━━━━\u001b[0m\u001b[37m\u001b[0m \u001b[1m0s\u001b[0m 13ms/step - auc: 0.8774 - loss: 1.2033 - val_auc: 0.7866 - val_loss: 1.6037\n",
      "Epoch 24/50\n",
      "\u001b[1m7/7\u001b[0m \u001b[32m━━━━━━━━━━━━━━━━━━━━\u001b[0m\u001b[37m\u001b[0m \u001b[1m0s\u001b[0m 13ms/step - auc: 0.8838 - loss: 1.1733 - val_auc: 0.7848 - val_loss: 1.6206\n",
      "Epoch 25/50\n",
      "\u001b[1m7/7\u001b[0m \u001b[32m━━━━━━━━━━━━━━━━━━━━\u001b[0m\u001b[37m\u001b[0m \u001b[1m0s\u001b[0m 13ms/step - auc: 0.8886 - loss: 1.1499 - val_auc: 0.7954 - val_loss: 1.5498\n",
      "Epoch 26/50\n",
      "\u001b[1m7/7\u001b[0m \u001b[32m━━━━━━━━━━━━━━━━━━━━\u001b[0m\u001b[37m\u001b[0m \u001b[1m0s\u001b[0m 13ms/step - auc: 0.8937 - loss: 1.1278 - val_auc: 0.7790 - val_loss: 1.6414\n",
      "Epoch 27/50\n",
      "\u001b[1m7/7\u001b[0m \u001b[32m━━━━━━━━━━━━━━━━━━━━\u001b[0m\u001b[37m\u001b[0m \u001b[1m0s\u001b[0m 14ms/step - auc: 0.8879 - loss: 1.1558 - val_auc: 0.7939 - val_loss: 1.5625\n",
      "Epoch 28/50\n",
      "\u001b[1m7/7\u001b[0m \u001b[32m━━━━━━━━━━━━━━━━━━━━\u001b[0m\u001b[37m\u001b[0m \u001b[1m0s\u001b[0m 13ms/step - auc: 0.8866 - loss: 1.1564 - val_auc: 0.7755 - val_loss: 1.6558\n",
      "Epoch 29/50\n",
      "\u001b[1m7/7\u001b[0m \u001b[32m━━━━━━━━━━━━━━━━━━━━\u001b[0m\u001b[37m\u001b[0m \u001b[1m0s\u001b[0m 13ms/step - auc: 0.8984 - loss: 1.0989 - val_auc: 0.7988 - val_loss: 1.5411\n",
      "Epoch 30/50\n",
      "\u001b[1m7/7\u001b[0m \u001b[32m━━━━━━━━━━━━━━━━━━━━\u001b[0m\u001b[37m\u001b[0m \u001b[1m0s\u001b[0m 13ms/step - auc: 0.9003 - loss: 1.0869 - val_auc: 0.7764 - val_loss: 1.6591\n",
      "Epoch 31/50\n",
      "\u001b[1m7/7\u001b[0m \u001b[32m━━━━━━━━━━━━━━━━━━━━\u001b[0m\u001b[37m\u001b[0m \u001b[1m0s\u001b[0m 13ms/step - auc: 0.8968 - loss: 1.1075 - val_auc: 0.7779 - val_loss: 1.6555\n",
      "Epoch 32/50\n",
      "\u001b[1m7/7\u001b[0m \u001b[32m━━━━━━━━━━━━━━━━━━━━\u001b[0m\u001b[37m\u001b[0m \u001b[1m0s\u001b[0m 14ms/step - auc: 0.9065 - loss: 1.0597 - val_auc: 0.7900 - val_loss: 1.6269\n",
      "Epoch 33/50\n",
      "\u001b[1m7/7\u001b[0m \u001b[32m━━━━━━━━━━━━━━━━━━━━\u001b[0m\u001b[37m\u001b[0m \u001b[1m0s\u001b[0m 13ms/step - auc: 0.9077 - loss: 1.0481 - val_auc: 0.8002 - val_loss: 1.5656\n",
      "Epoch 34/50\n",
      "\u001b[1m7/7\u001b[0m \u001b[32m━━━━━━━━━━━━━━━━━━━━\u001b[0m\u001b[37m\u001b[0m \u001b[1m0s\u001b[0m 13ms/step - auc: 0.9134 - loss: 1.0212 - val_auc: 0.7981 - val_loss: 1.6174\n",
      "Epoch 35/50\n",
      "\u001b[1m7/7\u001b[0m \u001b[32m━━━━━━━━━━━━━━━━━━━━\u001b[0m\u001b[37m\u001b[0m \u001b[1m0s\u001b[0m 13ms/step - auc: 0.9133 - loss: 1.0125 - val_auc: 0.8001 - val_loss: 1.5812\n",
      "Epoch 36/50\n",
      "\u001b[1m7/7\u001b[0m \u001b[32m━━━━━━━━━━━━━━━━━━━━\u001b[0m\u001b[37m\u001b[0m \u001b[1m0s\u001b[0m 13ms/step - auc: 0.9097 - loss: 1.0384 - val_auc: 0.7992 - val_loss: 1.5923\n",
      "Epoch 37/50\n",
      "\u001b[1m7/7\u001b[0m \u001b[32m━━━━━━━━━━━━━━━━━━━━\u001b[0m\u001b[37m\u001b[0m \u001b[1m0s\u001b[0m 13ms/step - auc: 0.9175 - loss: 0.9960 - val_auc: 0.8021 - val_loss: 1.5746\n",
      "Epoch 38/50\n",
      "\u001b[1m7/7\u001b[0m \u001b[32m━━━━━━━━━━━━━━━━━━━━\u001b[0m\u001b[37m\u001b[0m \u001b[1m0s\u001b[0m 13ms/step - auc: 0.9182 - loss: 0.9937 - val_auc: 0.8000 - val_loss: 1.5923\n",
      "Epoch 39/50\n",
      "\u001b[1m7/7\u001b[0m \u001b[32m━━━━━━━━━━━━━━━━━━━━\u001b[0m\u001b[37m\u001b[0m \u001b[1m0s\u001b[0m 13ms/step - auc: 0.9300 - loss: 0.9150 - val_auc: 0.8051 - val_loss: 1.5893\n",
      "Epoch 40/50\n",
      "\u001b[1m7/7\u001b[0m \u001b[32m━━━━━━━━━━━━━━━━━━━━\u001b[0m\u001b[37m\u001b[0m \u001b[1m0s\u001b[0m 13ms/step - auc: 0.9282 - loss: 0.9246 - val_auc: 0.7952 - val_loss: 1.6603\n",
      "Epoch 41/50\n",
      "\u001b[1m7/7\u001b[0m \u001b[32m━━━━━━━━━━━━━━━━━━━━\u001b[0m\u001b[37m\u001b[0m \u001b[1m0s\u001b[0m 13ms/step - auc: 0.9254 - loss: 0.9416 - val_auc: 0.7982 - val_loss: 1.6591\n",
      "Epoch 42/50\n",
      "\u001b[1m7/7\u001b[0m \u001b[32m━━━━━━━━━━━━━━━━━━━━\u001b[0m\u001b[37m\u001b[0m \u001b[1m0s\u001b[0m 13ms/step - auc: 0.9265 - loss: 0.9335 - val_auc: 0.7942 - val_loss: 1.6679\n",
      "Epoch 43/50\n",
      "\u001b[1m7/7\u001b[0m \u001b[32m━━━━━━━━━━━━━━━━━━━━\u001b[0m\u001b[37m\u001b[0m \u001b[1m0s\u001b[0m 13ms/step - auc: 0.9350 - loss: 0.8763 - val_auc: 0.8036 - val_loss: 1.6722\n",
      "Epoch 44/50\n",
      "\u001b[1m7/7\u001b[0m \u001b[32m━━━━━━━━━━━━━━━━━━━━\u001b[0m\u001b[37m\u001b[0m \u001b[1m0s\u001b[0m 13ms/step - auc: 0.9309 - loss: 0.9017 - val_auc: 0.8072 - val_loss: 1.6057\n",
      "Epoch 45/50\n",
      "\u001b[1m7/7\u001b[0m \u001b[32m━━━━━━━━━━━━━━━━━━━━\u001b[0m\u001b[37m\u001b[0m \u001b[1m0s\u001b[0m 13ms/step - auc: 0.9397 - loss: 0.8526 - val_auc: 0.8055 - val_loss: 1.6560\n",
      "Epoch 46/50\n",
      "\u001b[1m7/7\u001b[0m \u001b[32m━━━━━━━━━━━━━━━━━━━━\u001b[0m\u001b[37m\u001b[0m \u001b[1m0s\u001b[0m 13ms/step - auc: 0.9367 - loss: 0.8628 - val_auc: 0.8226 - val_loss: 1.5892\n",
      "Epoch 47/50\n",
      "\u001b[1m7/7\u001b[0m \u001b[32m━━━━━━━━━━━━━━━━━━━━\u001b[0m\u001b[37m\u001b[0m \u001b[1m0s\u001b[0m 13ms/step - auc: 0.9352 - loss: 0.8652 - val_auc: 0.7964 - val_loss: 1.7790\n",
      "Epoch 48/50\n",
      "\u001b[1m7/7\u001b[0m \u001b[32m━━━━━━━━━━━━━━━━━━━━\u001b[0m\u001b[37m\u001b[0m \u001b[1m0s\u001b[0m 13ms/step - auc: 0.9418 - loss: 0.8279 - val_auc: 0.7972 - val_loss: 1.6957\n",
      "Epoch 49/50\n",
      "\u001b[1m7/7\u001b[0m \u001b[32m━━━━━━━━━━━━━━━━━━━━\u001b[0m\u001b[37m\u001b[0m \u001b[1m0s\u001b[0m 13ms/step - auc: 0.9418 - loss: 0.8355 - val_auc: 0.8144 - val_loss: 1.6940\n",
      "Epoch 50/50\n",
      "\u001b[1m7/7\u001b[0m \u001b[32m━━━━━━━━━━━━━━━━━━━━\u001b[0m\u001b[37m\u001b[0m \u001b[1m0s\u001b[0m 13ms/step - auc: 0.9514 - loss: 0.7516 - val_auc: 0.8092 - val_loss: 1.6671\n"
     ]
    }
   ],
   "source": [
    "# Training the model\n",
    "history = model.fit(X, y, validation_split=0.2, epochs=50, batch_size=64)\n"
   ]
  },
  {
   "cell_type": "code",
   "execution_count": 32,
   "id": "9927aafd-c0c2-4e75-8dbd-d59d4d822834",
   "metadata": {
    "tags": []
   },
   "outputs": [
    {
     "name": "stdout",
     "output_type": "stream",
     "text": [
      "\u001b[1m17/17\u001b[0m \u001b[32m━━━━━━━━━━━━━━━━━━━━\u001b[0m\u001b[37m\u001b[0m \u001b[1m0s\u001b[0m 6ms/step\n",
      "AUC-ROC Score (Macro-Averaged): 0.9286713811497712\n",
      "Classification Report:\n",
      "              precision    recall  f1-score   support\n",
      "\n",
      "       anger       0.70      0.83      0.76       127\n",
      "     anxiety       0.78      0.65      0.71        69\n",
      "     boredom       0.62      0.56      0.59        81\n",
      "     disgust       0.52      0.65      0.58        46\n",
      "   happiness       0.65      0.45      0.53        71\n",
      "     neutral       0.64      0.73      0.69        79\n",
      "     sadness       0.79      0.73      0.76        62\n",
      "\n",
      "    accuracy                           0.67       535\n",
      "   macro avg       0.67      0.66      0.66       535\n",
      "weighted avg       0.68      0.67      0.67       535\n",
      "\n"
     ]
    }
   ],
   "source": [
    "# Predict probabilities for test data and calculate AUC-ROC\n",
    "\n",
    "y_pred_proba = model.predict(X)\n",
    "y_true = y\n",
    "auc_roc = roc_auc_score(y_true, y_pred_proba, average=\"macro\", multi_class=\"ovr\")\n",
    "\n",
    "print(f\"AUC-ROC Score (Macro-Averaged): {auc_roc}\")\n",
    "\n",
    "\n",
    "\n",
    "# Optional: Classification Report\n",
    "y_pred = np.argmax(y_pred_proba, axis=1)\n",
    "y_true_classes = np.argmax(y_true, axis=1)\n",
    "report = classification_report(y_true_classes, y_pred, target_names=enc.categories_[0])\n",
    "print(\"Classification Report:\")\n",
    "print(report)\n"
   ]
  },
  {
   "cell_type": "code",
   "execution_count": 33,
   "id": "021dd10a-43a4-465d-9522-cf711701f12d",
   "metadata": {
    "tags": []
   },
   "outputs": [
    {
     "name": "stderr",
     "output_type": "stream",
     "text": [
      "WARNING:absl:You are saving your model as an HDF5 file via `model.save()` or `keras.saving.save_model(model)`. This file format is considered legacy. We recommend using instead the native Keras format, e.g. `model.save('my_model.keras')` or `keras.saving.save_model(model, 'my_model.keras')`. \n"
     ]
    }
   ],
   "source": [
    "model.save('AUC-ROC.h5')"
   ]
  },
  {
   "cell_type": "code",
   "execution_count": 38,
   "id": "cacf3ae6-c757-46af-9fdd-f598fac1ec09",
   "metadata": {},
   "outputs": [
    {
     "name": "stdout",
     "output_type": "stream",
     "text": [
      "\u001b[1m17/17\u001b[0m \u001b[32m━━━━━━━━━━━━━━━━━━━━\u001b[0m\u001b[37m\u001b[0m \u001b[1m0s\u001b[0m 8ms/step\n"
     ]
    },
    {
     "data": {
      "image/png": "[encoded data removed]",
      "text/plain": [
       "<Figure size 1000x800 with 1 Axes>"
      ]
     },
     "metadata": {},
     "output_type": "display_data"
    }
   ],
   "source": [
    "# Predict probabilities and plot ROC curves for each emotion class\n",
    "y_pred_proba = model.predict(X)\n",
    "\n",
    "plt.figure(figsize=(10, 8))\n",
    "for i, emotion in enumerate(enc.categories_[0]):\n",
    "    fpr, tpr, _ = roc_curve(y[:, i], y_pred_proba[:, i])\n",
    "    roc_auc = auc(fpr, tpr)\n",
    "    plt.plot(fpr, tpr, label=f'{emotion} (AUC = {roc_auc:.2f})')\n",
    "\n",
    "plt.plot([0, 1], [0, 1], 'k--')  # Diagonal line for random guessing\n",
    "plt.xlabel(\"False Positive Rate\")\n",
    "plt.ylabel(\"True Positive Rate\")\n",
    "plt.title(\"ROC Curves by Emotion Class\")\n",
    "plt.legend(loc=\"lower right\")\n",
    "plt.show()\n"
   ]
  },
  {
   "cell_type": "code",
   "execution_count": 47,
   "id": "63a9bb3c-0a7d-4721-a95c-15f49358d5ab",
   "metadata": {
    "tags": []
   },
   "outputs": [
    {
     "name": "stderr",
     "output_type": "stream",
     "text": [
      "WARNING:absl:Compiled the loaded model, but the compiled metrics have yet to be built. `model.compile_metrics` will be empty until you train or evaluate the model.\n"
     ]
    },
    {
     "name": "stdout",
     "output_type": "stream",
     "text": [
      "\u001b[1m1/1\u001b[0m \u001b[32m━━━━━━━━━━━━━━━━━━━━\u001b[0m\u001b[37m\u001b[0m \u001b[1m0s\u001b[0m 108ms/step\n",
      "File: /Users/omedbahtuchi/Desktop/Masterarbeit/R_2dUWV4nZrCVjZBv_WOSECO.wav\n",
      "Predicted Emotion: neutral\n",
      "Probabilities:\n",
      " anger: 0.29495251178741455\n",
      " anxiety: 0.0582905039191246\n",
      " boredom: 0.14871813356876373\n",
      " disgust: 0.006299983710050583\n",
      " happiness: 0.014791782014071941\n",
      " neutral: 0.47605663537979126\n",
      " sadness: 0.0008905039285309613\n"
     ]
    }
   ],
   "source": [
    "# Load the saved model\n",
    "model = load_model(\"AUC-ROC.h5\")\n",
    "\n",
    "# Function to extract features from new .wav files and predict emotions\n",
    "def predict_emotion_on_new_file(filepath):\n",
    "    # Extract MFCC and apply PCA\n",
    "    mfcc_features = extract_mfcc(filepath).reshape(1, -1)\n",
    "    pca_features = pca.transform(mfcc_features)\n",
    "    pca_features = np.expand_dims(pca_features, -1)\n",
    "\n",
    "    # Predict probabilities\n",
    "    predictions = model.predict(pca_features)\n",
    "    predicted_emotion = enc.categories_[0][np.argmax(predictions)]\n",
    "    return predicted_emotion, predictions\n",
    "\n",
    "new_files = ['/Users/omedbahtuchi/Desktop/Masterarbeit/R_2dUWV4nZrCVjZBv_WOSECO.wav']\n",
    "for file in new_files:\n",
    "    emotion, proba = predict_emotion_on_new_file(file)\n",
    "    print(f\"File: {file}\")\n",
    "    print(f\"Predicted Emotion: {emotion}\")\n",
    "    print(\"Probabilities:\")\n",
    "    for emotion, probability in zip(enc.categories_[0], proba[0]):\n",
    "        print(f\" {emotion}: {probability}\")"
   ]
  },
  {
   "cell_type": "code",
   "execution_count": 48,
   "id": "e44ede5f-26c7-41b2-ba3f-6557d467c729",
   "metadata": {
    "tags": []
   },
   "outputs": [
    {
     "name": "stdout",
     "output_type": "stream",
     "text": [
      "\u001b[1m1/1\u001b[0m \u001b[32m━━━━━━━━━━━━━━━━━━━━\u001b[0m\u001b[37m\u001b[0m \u001b[1m0s\u001b[0m 96ms/step\n",
      "\u001b[1m1/1\u001b[0m \u001b[32m━━━━━━━━━━━━━━━━━━━━\u001b[0m\u001b[37m\u001b[0m \u001b[1m0s\u001b[0m 11ms/step\n",
      "\u001b[1m1/1\u001b[0m \u001b[32m━━━━━━━━━━━━━━━━━━━━\u001b[0m\u001b[37m\u001b[0m \u001b[1m0s\u001b[0m 11ms/step\n",
      "\u001b[1m1/1\u001b[0m \u001b[32m━━━━━━━━━━━━━━━━━━━━\u001b[0m\u001b[37m\u001b[0m \u001b[1m0s\u001b[0m 19ms/step\n",
      "\u001b[1m1/1\u001b[0m \u001b[32m━━━━━━━━━━━━━━━━━━━━\u001b[0m\u001b[37m\u001b[0m \u001b[1m0s\u001b[0m 16ms/step\n",
      "\u001b[1m1/1\u001b[0m \u001b[32m━━━━━━━━━━━━━━━━━━━━\u001b[0m\u001b[37m\u001b[0m \u001b[1m0s\u001b[0m 10ms/step\n",
      "\u001b[1m1/1\u001b[0m \u001b[32m━━━━━━━━━━━━━━━━━━━━\u001b[0m\u001b[37m\u001b[0m \u001b[1m0s\u001b[0m 11ms/step\n",
      "\u001b[1m1/1\u001b[0m \u001b[32m━━━━━━━━━━━━━━━━━━━━\u001b[0m\u001b[37m\u001b[0m \u001b[1m0s\u001b[0m 13ms/step\n",
      "\u001b[1m1/1\u001b[0m \u001b[32m━━━━━━━━━━━━━━━━━━━━\u001b[0m\u001b[37m\u001b[0m \u001b[1m0s\u001b[0m 16ms/step\n",
      "\u001b[1m1/1\u001b[0m \u001b[32m━━━━━━━━━━━━━━━━━━━━\u001b[0m\u001b[37m\u001b[0m \u001b[1m0s\u001b[0m 12ms/step\n",
      "\u001b[1m1/1\u001b[0m \u001b[32m━━━━━━━━━━━━━━━━━━━━\u001b[0m\u001b[37m\u001b[0m \u001b[1m0s\u001b[0m 17ms/step\n",
      "\u001b[1m1/1\u001b[0m \u001b[32m━━━━━━━━━━━━━━━━━━━━\u001b[0m\u001b[37m\u001b[0m \u001b[1m0s\u001b[0m 14ms/step\n",
      "\u001b[1m1/1\u001b[0m \u001b[32m━━━━━━━━━━━━━━━━━━━━\u001b[0m\u001b[37m\u001b[0m \u001b[1m0s\u001b[0m 11ms/step\n",
      "\u001b[1m1/1\u001b[0m \u001b[32m━━━━━━━━━━━━━━━━━━━━\u001b[0m\u001b[37m\u001b[0m \u001b[1m0s\u001b[0m 20ms/step\n",
      "\u001b[1m1/1\u001b[0m \u001b[32m━━━━━━━━━━━━━━━━━━━━\u001b[0m\u001b[37m\u001b[0m \u001b[1m0s\u001b[0m 21ms/step\n",
      "\u001b[1m1/1\u001b[0m \u001b[32m━━━━━━━━━━━━━━━━━━━━\u001b[0m\u001b[37m\u001b[0m \u001b[1m0s\u001b[0m 23ms/step\n",
      "\u001b[1m1/1\u001b[0m \u001b[32m━━━━━━━━━━━━━━━━━━━━\u001b[0m\u001b[37m\u001b[0m \u001b[1m0s\u001b[0m 12ms/step\n",
      "\u001b[1m1/1\u001b[0m \u001b[32m━━━━━━━━━━━━━━━━━━━━\u001b[0m\u001b[37m\u001b[0m \u001b[1m0s\u001b[0m 11ms/step\n",
      "\u001b[1m1/1\u001b[0m \u001b[32m━━━━━━━━━━━━━━━━━━━━\u001b[0m\u001b[37m\u001b[0m \u001b[1m0s\u001b[0m 11ms/step\n",
      "\u001b[1m1/1\u001b[0m \u001b[32m━━━━━━━━━━━━━━━━━━━━\u001b[0m\u001b[37m\u001b[0m \u001b[1m0s\u001b[0m 41ms/step\n",
      "\u001b[1m1/1\u001b[0m \u001b[32m━━━━━━━━━━━━━━━━━━━━\u001b[0m\u001b[37m\u001b[0m \u001b[1m0s\u001b[0m 28ms/step\n",
      "\u001b[1m1/1\u001b[0m \u001b[32m━━━━━━━━━━━━━━━━━━━━\u001b[0m\u001b[37m\u001b[0m \u001b[1m0s\u001b[0m 29ms/step\n",
      "\u001b[1m1/1\u001b[0m \u001b[32m━━━━━━━━━━━━━━━━━━━━\u001b[0m\u001b[37m\u001b[0m \u001b[1m0s\u001b[0m 10ms/step\n",
      "\u001b[1m1/1\u001b[0m \u001b[32m━━━━━━━━━━━━━━━━━━━━\u001b[0m\u001b[37m\u001b[0m \u001b[1m0s\u001b[0m 11ms/step\n",
      "\u001b[1m1/1\u001b[0m \u001b[32m━━━━━━━━━━━━━━━━━━━━\u001b[0m\u001b[37m\u001b[0m \u001b[1m0s\u001b[0m 11ms/step\n",
      "\u001b[1m1/1\u001b[0m \u001b[32m━━━━━━━━━━━━━━━━━━━━\u001b[0m\u001b[37m\u001b[0m \u001b[1m0s\u001b[0m 16ms/step\n",
      "\u001b[1m1/1\u001b[0m \u001b[32m━━━━━━━━━━━━━━━━━━━━\u001b[0m\u001b[37m\u001b[0m \u001b[1m0s\u001b[0m 19ms/step\n",
      "\u001b[1m1/1\u001b[0m \u001b[32m━━━━━━━━━━━━━━━━━━━━\u001b[0m\u001b[37m\u001b[0m \u001b[1m0s\u001b[0m 23ms/step\n",
      "\u001b[1m1/1\u001b[0m \u001b[32m━━━━━━━━━━━━━━━━━━━━\u001b[0m\u001b[37m\u001b[0m \u001b[1m0s\u001b[0m 24ms/step\n",
      "\u001b[1m1/1\u001b[0m \u001b[32m━━━━━━━━━━━━━━━━━━━━\u001b[0m\u001b[37m\u001b[0m \u001b[1m0s\u001b[0m 23ms/step\n",
      "\u001b[1m1/1\u001b[0m \u001b[32m━━━━━━━━━━━━━━━━━━━━\u001b[0m\u001b[37m\u001b[0m \u001b[1m0s\u001b[0m 19ms/step\n",
      "\u001b[1m1/1\u001b[0m \u001b[32m━━━━━━━━━━━━━━━━━━━━\u001b[0m\u001b[37m\u001b[0m \u001b[1m0s\u001b[0m 20ms/step\n",
      "\u001b[1m1/1\u001b[0m \u001b[32m━━━━━━━━━━━━━━━━━━━━\u001b[0m\u001b[37m\u001b[0m \u001b[1m0s\u001b[0m 21ms/step\n",
      "\u001b[1m1/1\u001b[0m \u001b[32m━━━━━━━━━━━━━━━━━━━━\u001b[0m\u001b[37m\u001b[0m \u001b[1m0s\u001b[0m 18ms/step\n",
      "\u001b[1m1/1\u001b[0m \u001b[32m━━━━━━━━━━━━━━━━━━━━\u001b[0m\u001b[37m\u001b[0m \u001b[1m0s\u001b[0m 28ms/step\n",
      "\u001b[1m1/1\u001b[0m \u001b[32m━━━━━━━━━━━━━━━━━━━━\u001b[0m\u001b[37m\u001b[0m \u001b[1m0s\u001b[0m 26ms/step\n",
      "\u001b[1m1/1\u001b[0m \u001b[32m━━━━━━━━━━━━━━━━━━━━\u001b[0m\u001b[37m\u001b[0m \u001b[1m0s\u001b[0m 12ms/step\n",
      "\u001b[1m1/1\u001b[0m \u001b[32m━━━━━━━━━━━━━━━━━━━━\u001b[0m\u001b[37m\u001b[0m \u001b[1m0s\u001b[0m 11ms/step\n",
      "From 0.00s to 5.00s: neutral (Probabilities: [0.28848812 0.05489513 0.13746692 0.00586604 0.01616569 0.4961347\n",
      " 0.00098332])\n",
      "From 4.00s to 9.00s: neutral (Probabilities: [0.19045188 0.03057405 0.16923441 0.00471604 0.00941121 0.5948375\n",
      " 0.0007749 ])\n",
      "From 8.00s to 13.00s: neutral (Probabilities: [0.19403796 0.03411121 0.18179493 0.0052246  0.01129487 0.57253665\n",
      " 0.0009997 ])\n",
      "From 12.00s to 17.00s: neutral (Probabilities: [0.10566892 0.01358133 0.20212294 0.00316577 0.00831247 0.6659227\n",
      " 0.00122587])\n",
      "From 16.00s to 21.00s: neutral (Probabilities: [1.3240625e-01 1.3619057e-02 1.9480999e-01 2.1832278e-03 6.5249358e-03\n",
      " 6.4982337e-01 6.3320209e-04])\n",
      "From 20.00s to 25.00s: neutral (Probabilities: [0.14639556 0.01810336 0.21004236 0.00372601 0.00915757 0.6114031\n",
      " 0.00117204])\n",
      "From 24.00s to 29.00s: neutral (Probabilities: [0.31892154 0.06366166 0.12198332 0.00563259 0.01416567 0.47500247\n",
      " 0.00063284])\n",
      "From 28.00s to 33.00s: neutral (Probabilities: [1.4842592e-01 1.2247696e-02 1.8483181e-01 2.1170301e-03 6.0235146e-03\n",
      " 6.4581078e-01 5.4318440e-04])\n",
      "From 32.00s to 37.00s: neutral (Probabilities: [0.10522306 0.01052794 0.17704564 0.00190554 0.0065661  0.69800407\n",
      " 0.00072764])\n",
      "From 36.00s to 41.00s: neutral (Probabilities: [0.126303   0.01211289 0.18319166 0.00231821 0.00676865 0.66859114\n",
      " 0.00071447])\n",
      "From 40.00s to 45.00s: neutral (Probabilities: [0.1684188  0.02286766 0.17335725 0.00411619 0.01159349 0.61843735\n",
      " 0.00120929])\n",
      "From 44.00s to 49.00s: neutral (Probabilities: [0.24171615 0.0277498  0.1625904  0.0034459  0.00893362 0.5549802\n",
      " 0.00058387])\n",
      "From 48.00s to 53.00s: neutral (Probabilities: [0.19069816 0.02444234 0.16246006 0.004276   0.00888922 0.6084854\n",
      " 0.00074884])\n",
      "From 52.00s to 57.00s: neutral (Probabilities: [0.16376449 0.01923086 0.16150194 0.00286257 0.00873842 0.643229\n",
      " 0.00067267])\n",
      "From 56.00s to 61.00s: anger (Probabilities: [0.41779914 0.08410333 0.08220433 0.00372258 0.02119457 0.3904178\n",
      " 0.00055828])\n",
      "From 60.00s to 65.00s: neutral (Probabilities: [0.3453672  0.06626289 0.13608396 0.00574216 0.01398083 0.43188596\n",
      " 0.00067701])\n",
      "From 64.00s to 69.00s: neutral (Probabilities: [3.3677119e-01 4.7669079e-02 1.2020619e-01 3.3595639e-03 1.1573138e-02\n",
      " 4.8002160e-01 3.9913904e-04])\n",
      "From 68.00s to 73.00s: anger (Probabilities: [5.6818306e-01 1.1339481e-01 7.2543897e-02 3.3847352e-03 2.1351850e-02\n",
      " 2.2079588e-01 3.4575068e-04])\n",
      "From 72.00s to 77.00s: neutral (Probabilities: [0.19143495 0.02543132 0.15770522 0.00369926 0.00964611 0.61136395\n",
      " 0.0007191 ])\n",
      "From 76.00s to 81.00s: neutral (Probabilities: [0.21755224 0.0346637  0.15824333 0.00499268 0.01110707 0.57261634\n",
      " 0.00082466])\n",
      "From 80.00s to 85.00s: neutral (Probabilities: [0.14828043 0.01500641 0.19541956 0.00266216 0.00704622 0.63088936\n",
      " 0.0006959 ])\n",
      "From 84.00s to 89.00s: neutral (Probabilities: [0.1414092  0.02427291 0.16420634 0.00380382 0.01267573 0.65223414\n",
      " 0.0013979 ])\n",
      "From 88.00s to 93.00s: neutral (Probabilities: [0.1650589  0.02562185 0.16123325 0.00441177 0.00953936 0.63324463\n",
      " 0.00089024])\n",
      "From 92.00s to 97.00s: neutral (Probabilities: [0.22293022 0.03107165 0.13263278 0.0042047  0.01331251 0.59489036\n",
      " 0.00095788])\n",
      "From 96.00s to 101.00s: neutral (Probabilities: [0.36000246 0.08734476 0.1228459  0.00647518 0.01287087 0.4099833\n",
      " 0.00047749])\n",
      "From 100.00s to 105.00s: neutral (Probabilities: [0.22503734 0.02962383 0.1445981  0.00414489 0.01073    0.5851329\n",
      " 0.00073287])\n",
      "From 104.00s to 109.00s: neutral (Probabilities: [0.13507336 0.01538865 0.20607711 0.0035601  0.00849907 0.63029927\n",
      " 0.00110233])\n",
      "From 108.00s to 113.00s: neutral (Probabilities: [1.5643580e-01 1.4919378e-02 1.8657838e-01 1.9565995e-03 6.9988142e-03\n",
      " 6.3252938e-01 5.8168807e-04])\n",
      "From 112.00s to 117.00s: neutral (Probabilities: [0.22681168 0.04151231 0.1570571  0.00586072 0.01534428 0.5520636\n",
      " 0.00135038])\n",
      "From 116.00s to 121.00s: neutral (Probabilities: [0.12414723 0.01648115 0.15985784 0.00352392 0.00964259 0.6850681\n",
      " 0.00127921])\n",
      "From 120.00s to 125.00s: neutral (Probabilities: [0.07279965 0.00831434 0.21772735 0.00198769 0.00702391 0.6907506\n",
      " 0.00139641])\n",
      "From 124.00s to 129.00s: neutral (Probabilities: [0.15284957 0.02510412 0.15500906 0.00433427 0.01202085 0.64937186\n",
      " 0.00131024])\n",
      "From 128.00s to 133.00s: neutral (Probabilities: [0.10849322 0.01505613 0.16276875 0.00310535 0.010329   0.69873345\n",
      " 0.00151413])\n",
      "From 132.00s to 137.00s: neutral (Probabilities: [0.19950226 0.03375356 0.17514776 0.00561269 0.01389225 0.57068825\n",
      " 0.00140321])\n",
      "From 136.00s to 141.00s: neutral (Probabilities: [0.21028101 0.02702214 0.14197676 0.00313344 0.01572697 0.600725\n",
      " 0.00113472])\n",
      "From 140.00s to 145.00s: neutral (Probabilities: [0.18559507 0.02999862 0.19705574 0.00507884 0.0122605  0.5686828\n",
      " 0.0013284 ])\n",
      "From 144.00s to 149.00s: neutral (Probabilities: [0.13522804 0.01927366 0.1838208  0.00375375 0.01247255 0.6438307\n",
      " 0.00162048])\n",
      "From 148.00s to 153.00s: neutral (Probabilities: [0.08961917 0.01107682 0.16621637 0.00240358 0.0072934  0.7223536\n",
      " 0.00103715])\n"
     ]
    }
   ],
   "source": [
    "def predict_emotions_over_time(filepath, segment_duration=5.0, overlap=1.0):\n",
    "    # Load audio file\n",
    "    y, sr = librosa.load(filepath)\n",
    "    \n",
    "    # Calculate number of samples per segment\n",
    "    segment_samples = int(segment_duration * sr)\n",
    "    overlap_samples = int(overlap * sr)\n",
    "    \n",
    "    # Initialize an empty list to store results\n",
    "    results = []\n",
    "    \n",
    "    # Process each segment\n",
    "    for start in range(0, len(y) - segment_samples + 1, segment_samples - overlap_samples):\n",
    "        # Extract segment\n",
    "        segment = y[start:start + segment_samples]\n",
    "        \n",
    "        # Extract MFCC and apply PCA\n",
    "        mfcc_features = np.mean(librosa.feature.mfcc(y=segment, sr=sr, n_mfcc=40).T, axis=0).reshape(1, -1)\n",
    "        pca_features = pca.transform(mfcc_features)\n",
    "        pca_features = np.expand_dims(pca_features, -1)\n",
    "        \n",
    "        # Predict emotion probabilities\n",
    "        predictions = model.predict(pca_features)\n",
    "        predicted_emotion = enc.categories_[0][np.argmax(predictions)]\n",
    "        \n",
    "        # Calculate the timestamp for the segment\n",
    "        start_time = start / sr\n",
    "        end_time = (start + segment_samples) / sr\n",
    "        \n",
    "        # Append results\n",
    "        results.append({\n",
    "            \"start_time\": start_time,\n",
    "            \"end_time\": end_time,\n",
    "            \"predicted_emotion\": predicted_emotion,\n",
    "            \"probabilities\": predictions[0]\n",
    "        })\n",
    "\n",
    "    return results\n",
    "\n",
    "# Example usage\n",
    "results = predict_emotions_over_time('/Users/omedbahtuchi/Desktop/Masterarbeit/R_2dUWV4nZrCVjZBv_WOSECO.wav')\n",
    "for res in results:\n",
    "    print(f\"From {res['start_time']:.2f}s to {res['end_time']:.2f}s: {res['predicted_emotion']} (Probabilities: {res['probabilities']})\")\n"
   ]
  },
  {
   "cell_type": "code",
   "execution_count": null,
   "id": "9d2b2de2-0671-4979-851d-fd95a1086088",
   "metadata": {},
   "outputs": [],
   "source": []
  },
  {
   "cell_type": "code",
   "execution_count": null,
   "id": "d97c665d-da66-47f8-8d39-b2f597a27fad",
   "metadata": {},
   "outputs": [],
   "source": []
  }
 ],
 "metadata": {
  "kernelspec": {
   "display_name": "Python 3 (ipykernel)",
   "language": "python",
   "name": "python3"
  },
  "language_info": {
   "codemirror_mode": {
    "name": "ipython",
    "version": 3
   },
   "file_extension": ".py",
   "mimetype": "text/x-python",
   "name": "python",
   "nbconvert_exporter": "python",
   "pygments_lexer": "ipython3",
   "version": "3.10.11"
  }
 },
 "nbformat": 4,
 "nbformat_minor": 5
}
