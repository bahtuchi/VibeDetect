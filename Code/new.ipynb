{
 "cells": [
  {
   "cell_type": "markdown",
   "id": "ccdbde90-f6e5-4a25-be26-689e846773e6",
   "metadata": {
    "tags": []
   },
   "source": [
    "\"\"\"\n",
    "\n",
    "# Emotion Classification on Audio Data with PCA and AUC-ROC Evaluation\n",
    "\n",
    "\n",
    "\n",
    "This notebook demonstrates an end-to-end pipeline for classifying emotions from audio data.\n",
    "\n",
    "We use the following steps:\n",
    "\n",
    "\n",
    "\n",
    "1. Load and label the dataset.\n",
    "\n",
    "2. Extract MFCC features from audio files.\n",
    "\n",
    "3. Apply PCA for dimensionality reduction.\n",
    "\n",
    "4. Build an LSTM model for classification.\n",
    "\n",
    "5. Evaluate the model with AUC-ROC and save the model.\n",
    "\n",
    "6. Run the model on new .wav files and visualize results using ROC curves.\n",
    "\n",
    "\n",
    "\n",
    "---\n",
    "\n",
    "\n",
    "\n",
    "\"\"\""
   ]
  },
  {
   "cell_type": "code",
   "execution_count": 2,
   "id": "9f522b72-d9b6-42ce-88d9-679e28cf0865",
   "metadata": {
    "tags": []
   },
   "outputs": [
    {
     "name": "stdout",
     "output_type": "stream",
     "text": [
      "Requirement already satisfied: pandas in /Users/omedbahtuchi/anaconda3/lib/python3.10/site-packages (2.2.3)\n",
      "Requirement already satisfied: numpy in /Users/omedbahtuchi/anaconda3/lib/python3.10/site-packages (1.26.4)\n",
      "Collecting numpy\n",
      "  Using cached numpy-2.1.3-cp310-cp310-macosx_14_0_arm64.whl (5.4 MB)\n",
      "Requirement already satisfied: seaborn in /Users/omedbahtuchi/anaconda3/lib/python3.10/site-packages (0.13.2)\n",
      "Requirement already satisfied: matplotlib in /Users/omedbahtuchi/anaconda3/lib/python3.10/site-packages (3.9.2)\n",
      "Requirement already satisfied: librosa in /Users/omedbahtuchi/anaconda3/lib/python3.10/site-packages (0.10.2.post1)\n",
      "Requirement already satisfied: keras in /Users/omedbahtuchi/anaconda3/lib/python3.10/site-packages (3.6.0)\n",
      "Requirement already satisfied: tensorflow-macos in /Users/omedbahtuchi/anaconda3/lib/python3.10/site-packages (2.16.2)\n",
      "Requirement already satisfied: python-dateutil>=2.8.2 in /Users/omedbahtuchi/anaconda3/lib/python3.10/site-packages (from pandas) (2.8.2)\n",
      "Requirement already satisfied: tzdata>=2022.7 in /Users/omedbahtuchi/anaconda3/lib/python3.10/site-packages (from pandas) (2023.3)\n",
      "Requirement already satisfied: pytz>=2020.1 in /Users/omedbahtuchi/anaconda3/lib/python3.10/site-packages (from pandas) (2022.7)\n",
      "Requirement already satisfied: kiwisolver>=1.3.1 in /Users/omedbahtuchi/anaconda3/lib/python3.10/site-packages (from matplotlib) (1.4.4)\n",
      "Requirement already satisfied: pyparsing>=2.3.1 in /Users/omedbahtuchi/anaconda3/lib/python3.10/site-packages (from matplotlib) (3.0.9)\n",
      "Requirement already satisfied: cycler>=0.10 in /Users/omedbahtuchi/anaconda3/lib/python3.10/site-packages (from matplotlib) (0.11.0)\n",
      "Requirement already satisfied: packaging>=20.0 in /Users/omedbahtuchi/anaconda3/lib/python3.10/site-packages (from matplotlib) (23.0)\n",
      "Requirement already satisfied: fonttools>=4.22.0 in /Users/omedbahtuchi/anaconda3/lib/python3.10/site-packages (from matplotlib) (4.25.0)\n",
      "Requirement already satisfied: pillow>=8 in /Users/omedbahtuchi/anaconda3/lib/python3.10/site-packages (from matplotlib) (9.4.0)\n",
      "Requirement already satisfied: contourpy>=1.0.1 in /Users/omedbahtuchi/anaconda3/lib/python3.10/site-packages (from matplotlib) (1.0.5)\n",
      "Requirement already satisfied: audioread>=2.1.9 in /Users/omedbahtuchi/anaconda3/lib/python3.10/site-packages (from librosa) (3.0.1)\n",
      "Requirement already satisfied: joblib>=0.14 in /Users/omedbahtuchi/anaconda3/lib/python3.10/site-packages (from librosa) (1.4.2)\n",
      "Requirement already satisfied: scikit-learn>=0.20.0 in /Users/omedbahtuchi/anaconda3/lib/python3.10/site-packages (from librosa) (1.5.2)\n",
      "Requirement already satisfied: msgpack>=1.0 in /Users/omedbahtuchi/anaconda3/lib/python3.10/site-packages (from librosa) (1.1.0)\n",
      "Requirement already satisfied: typing-extensions>=4.1.1 in /Users/omedbahtuchi/anaconda3/lib/python3.10/site-packages (from librosa) (4.12.1)\n",
      "Requirement already satisfied: numba>=0.51.0 in /Users/omedbahtuchi/anaconda3/lib/python3.10/site-packages (from librosa) (0.59.1)\n",
      "Requirement already satisfied: decorator>=4.3.0 in /Users/omedbahtuchi/anaconda3/lib/python3.10/site-packages (from librosa) (5.1.1)\n",
      "Requirement already satisfied: pooch>=1.1 in /Users/omedbahtuchi/anaconda3/lib/python3.10/site-packages (from librosa) (1.8.2)\n",
      "Requirement already satisfied: soxr>=0.3.2 in /Users/omedbahtuchi/anaconda3/lib/python3.10/site-packages (from librosa) (0.5.0.post1)\n",
      "Requirement already satisfied: scipy>=1.2.0 in /Users/omedbahtuchi/anaconda3/lib/python3.10/site-packages (from librosa) (1.10.1)\n",
      "Requirement already satisfied: soundfile>=0.12.1 in /Users/omedbahtuchi/anaconda3/lib/python3.10/site-packages (from librosa) (0.12.1)\n",
      "Requirement already satisfied: lazy-loader>=0.1 in /Users/omedbahtuchi/anaconda3/lib/python3.10/site-packages (from librosa) (0.4)\n",
      "Requirement already satisfied: optree in /Users/omedbahtuchi/anaconda3/lib/python3.10/site-packages (from keras) (0.13.0)\n",
      "Requirement already satisfied: absl-py in /Users/omedbahtuchi/anaconda3/lib/python3.10/site-packages (from keras) (2.1.0)\n",
      "Requirement already satisfied: h5py in /Users/omedbahtuchi/anaconda3/lib/python3.10/site-packages (from keras) (3.12.1)\n",
      "Requirement already satisfied: namex in /Users/omedbahtuchi/anaconda3/lib/python3.10/site-packages (from keras) (0.0.8)\n",
      "Requirement already satisfied: ml-dtypes in /Users/omedbahtuchi/anaconda3/lib/python3.10/site-packages (from keras) (0.3.2)\n",
      "Requirement already satisfied: rich in /Users/omedbahtuchi/anaconda3/lib/python3.10/site-packages (from keras) (13.9.3)\n",
      "Requirement already satisfied: tensorflow==2.16.2 in /Users/omedbahtuchi/anaconda3/lib/python3.10/site-packages (from tensorflow-macos) (2.16.2)\n",
      "Requirement already satisfied: requests<3,>=2.21.0 in /Users/omedbahtuchi/anaconda3/lib/python3.10/site-packages (from tensorflow==2.16.2->tensorflow-macos) (2.29.0)\n",
      "Requirement already satisfied: google-pasta>=0.1.1 in /Users/omedbahtuchi/anaconda3/lib/python3.10/site-packages (from tensorflow==2.16.2->tensorflow-macos) (0.2.0)\n",
      "Requirement already satisfied: termcolor>=1.1.0 in /Users/omedbahtuchi/anaconda3/lib/python3.10/site-packages (from tensorflow==2.16.2->tensorflow-macos) (2.5.0)\n",
      "Requirement already satisfied: six>=1.12.0 in /Users/omedbahtuchi/anaconda3/lib/python3.10/site-packages (from tensorflow==2.16.2->tensorflow-macos) (1.16.0)\n",
      "Requirement already satisfied: flatbuffers>=23.5.26 in /Users/omedbahtuchi/anaconda3/lib/python3.10/site-packages (from tensorflow==2.16.2->tensorflow-macos) (24.3.25)\n",
      "Requirement already satisfied: protobuf!=4.21.0,!=4.21.1,!=4.21.2,!=4.21.3,!=4.21.4,!=4.21.5,<5.0.0dev,>=3.20.3 in /Users/omedbahtuchi/anaconda3/lib/python3.10/site-packages (from tensorflow==2.16.2->tensorflow-macos) (4.25.5)\n",
      "Requirement already satisfied: tensorflow-io-gcs-filesystem>=0.23.1 in /Users/omedbahtuchi/anaconda3/lib/python3.10/site-packages (from tensorflow==2.16.2->tensorflow-macos) (0.37.1)\n",
      "Requirement already satisfied: libclang>=13.0.0 in /Users/omedbahtuchi/anaconda3/lib/python3.10/site-packages (from tensorflow==2.16.2->tensorflow-macos) (18.1.1)\n",
      "Requirement already satisfied: opt-einsum>=2.3.2 in /Users/omedbahtuchi/anaconda3/lib/python3.10/site-packages (from tensorflow==2.16.2->tensorflow-macos) (3.4.0)\n",
      "Requirement already satisfied: tensorboard<2.17,>=2.16 in /Users/omedbahtuchi/anaconda3/lib/python3.10/site-packages (from tensorflow==2.16.2->tensorflow-macos) (2.16.2)\n",
      "Requirement already satisfied: wrapt>=1.11.0 in /Users/omedbahtuchi/anaconda3/lib/python3.10/site-packages (from tensorflow==2.16.2->tensorflow-macos) (1.16.0)\n",
      "Requirement already satisfied: setuptools in /Users/omedbahtuchi/anaconda3/lib/python3.10/site-packages (from tensorflow==2.16.2->tensorflow-macos) (65.6.3)\n",
      "Requirement already satisfied: gast!=0.5.0,!=0.5.1,!=0.5.2,>=0.2.1 in /Users/omedbahtuchi/anaconda3/lib/python3.10/site-packages (from tensorflow==2.16.2->tensorflow-macos) (0.6.0)\n",
      "Requirement already satisfied: grpcio<2.0,>=1.24.3 in /Users/omedbahtuchi/anaconda3/lib/python3.10/site-packages (from tensorflow==2.16.2->tensorflow-macos) (1.67.1)\n",
      "Requirement already satisfied: astunparse>=1.6.0 in /Users/omedbahtuchi/anaconda3/lib/python3.10/site-packages (from tensorflow==2.16.2->tensorflow-macos) (1.6.3)\n",
      "Requirement already satisfied: llvmlite<0.43,>=0.42.0dev0 in /Users/omedbahtuchi/anaconda3/lib/python3.10/site-packages (from numba>=0.51.0->librosa) (0.42.0)\n",
      "Requirement already satisfied: platformdirs>=2.5.0 in /Users/omedbahtuchi/anaconda3/lib/python3.10/site-packages (from pooch>=1.1->librosa) (2.5.2)\n",
      "Requirement already satisfied: threadpoolctl>=3.1.0 in /Users/omedbahtuchi/anaconda3/lib/python3.10/site-packages (from scikit-learn>=0.20.0->librosa) (3.5.0)\n",
      "Requirement already satisfied: cffi>=1.0 in /Users/omedbahtuchi/anaconda3/lib/python3.10/site-packages (from soundfile>=0.12.1->librosa) (1.15.1)\n",
      "Requirement already satisfied: pygments<3.0.0,>=2.13.0 in /Users/omedbahtuchi/anaconda3/lib/python3.10/site-packages (from rich->keras) (2.15.1)\n",
      "Requirement already satisfied: markdown-it-py>=2.2.0 in /Users/omedbahtuchi/anaconda3/lib/python3.10/site-packages (from rich->keras) (3.0.0)\n",
      "Requirement already satisfied: wheel<1.0,>=0.23.0 in /Users/omedbahtuchi/anaconda3/lib/python3.10/site-packages (from astunparse>=1.6.0->tensorflow==2.16.2->tensorflow-macos) (0.38.4)\n",
      "Requirement already satisfied: pycparser in /Users/omedbahtuchi/anaconda3/lib/python3.10/site-packages (from cffi>=1.0->soundfile>=0.12.1->librosa) (2.21)\n",
      "Requirement already satisfied: mdurl~=0.1 in /Users/omedbahtuchi/anaconda3/lib/python3.10/site-packages (from markdown-it-py>=2.2.0->rich->keras) (0.1.2)\n",
      "Requirement already satisfied: charset-normalizer<4,>=2 in /Users/omedbahtuchi/anaconda3/lib/python3.10/site-packages (from requests<3,>=2.21.0->tensorflow==2.16.2->tensorflow-macos) (2.0.4)\n",
      "Requirement already satisfied: idna<4,>=2.5 in /Users/omedbahtuchi/anaconda3/lib/python3.10/site-packages (from requests<3,>=2.21.0->tensorflow==2.16.2->tensorflow-macos) (3.4)\n",
      "Requirement already satisfied: urllib3<1.27,>=1.21.1 in /Users/omedbahtuchi/anaconda3/lib/python3.10/site-packages (from requests<3,>=2.21.0->tensorflow==2.16.2->tensorflow-macos) (1.26.16)\n",
      "Requirement already satisfied: certifi>=2017.4.17 in /Users/omedbahtuchi/anaconda3/lib/python3.10/site-packages (from requests<3,>=2.21.0->tensorflow==2.16.2->tensorflow-macos) (2023.5.7)\n",
      "Requirement already satisfied: werkzeug>=1.0.1 in /Users/omedbahtuchi/anaconda3/lib/python3.10/site-packages (from tensorboard<2.17,>=2.16->tensorflow==2.16.2->tensorflow-macos) (3.0.6)\n",
      "Requirement already satisfied: tensorboard-data-server<0.8.0,>=0.7.0 in /Users/omedbahtuchi/anaconda3/lib/python3.10/site-packages (from tensorboard<2.17,>=2.16->tensorflow==2.16.2->tensorflow-macos) (0.7.2)\n",
      "Requirement already satisfied: markdown>=2.6.8 in /Users/omedbahtuchi/anaconda3/lib/python3.10/site-packages (from tensorboard<2.17,>=2.16->tensorflow==2.16.2->tensorflow-macos) (3.7)\n",
      "Requirement already satisfied: MarkupSafe>=2.1.1 in /Users/omedbahtuchi/anaconda3/lib/python3.10/site-packages (from werkzeug>=1.0.1->tensorboard<2.17,>=2.16->tensorflow==2.16.2->tensorflow-macos) (2.1.1)\n"
     ]
    }
   ],
   "source": [
    "!pip install pandas numpy seaborn matplotlib librosa keras tensorflow-macos --upgrade"
   ]
  },
  {
   "cell_type": "code",
   "execution_count": 3,
   "id": "e2eae0ef-2948-41f4-bcbb-87df7eb0d8d5",
   "metadata": {
    "tags": []
   },
   "outputs": [],
   "source": [
    "# Import necessary libraries\n",
    "import os\n",
    "import numpy as np\n",
    "import pandas as pd\n",
    "import seaborn as sns\n",
    "from sklearn.preprocessing import OneHotEncoder\n",
    "from sklearn.decomposition import PCA\n",
    "from sklearn.metrics import roc_auc_score, roc_curve, auc, classification_report\n",
    "from keras.models import Sequential, load_model\n",
    "from keras.layers import Dense, LSTM, Dropout\n",
    "from keras.metrics import AUC\n",
    "import librosa\n",
    "from tqdm import tqdm\n",
    "import warnings\n",
    "import matplotlib.pyplot as plt\n",
    "\n",
    "warnings.filterwarnings('ignore')\n"
   ]
  },
  {
   "cell_type": "code",
   "execution_count": 4,
   "id": "1acee945-3ea0-47a3-9744-94c9e1567d17",
   "metadata": {
    "tags": []
   },
   "outputs": [
    {
     "data": {
      "text/html": [
       "<div>\n",
       "<style scoped>\n",
       "    .dataframe tbody tr th:only-of-type {\n",
       "        vertical-align: middle;\n",
       "    }\n",
       "\n",
       "    .dataframe tbody tr th {\n",
       "        vertical-align: top;\n",
       "    }\n",
       "\n",
       "    .dataframe thead th {\n",
       "        text-align: right;\n",
       "    }\n",
       "</style>\n",
       "<table border=\"1\" class=\"dataframe\">\n",
       "  <thead>\n",
       "    <tr style=\"text-align: right;\">\n",
       "      <th></th>\n",
       "      <th>SpeakerID</th>\n",
       "      <th>Emotion</th>\n",
       "      <th>Path</th>\n",
       "    </tr>\n",
       "  </thead>\n",
       "  <tbody>\n",
       "    <tr>\n",
       "      <th>0</th>\n",
       "      <td>16</td>\n",
       "      <td>boredom</td>\n",
       "      <td>../wav/16a02Lb.wav</td>\n",
       "    </tr>\n",
       "    <tr>\n",
       "      <th>1</th>\n",
       "      <td>14</td>\n",
       "      <td>anger</td>\n",
       "      <td>../wav/14a07Wc.wav</td>\n",
       "    </tr>\n",
       "    <tr>\n",
       "      <th>2</th>\n",
       "      <td>10</td>\n",
       "      <td>anxiety</td>\n",
       "      <td>../wav/10a07Ad.wav</td>\n",
       "    </tr>\n",
       "    <tr>\n",
       "      <th>3</th>\n",
       "      <td>13</td>\n",
       "      <td>disgust</td>\n",
       "      <td>../wav/13a05Ea.wav</td>\n",
       "    </tr>\n",
       "    <tr>\n",
       "      <th>4</th>\n",
       "      <td>14</td>\n",
       "      <td>anger</td>\n",
       "      <td>../wav/14a05Wa.wav</td>\n",
       "    </tr>\n",
       "  </tbody>\n",
       "</table>\n",
       "</div>"
      ],
      "text/plain": [
       "   SpeakerID  Emotion                Path\n",
       "0         16  boredom  ../wav/16a02Lb.wav\n",
       "1         14    anger  ../wav/14a07Wc.wav\n",
       "2         10  anxiety  ../wav/10a07Ad.wav\n",
       "3         13  disgust  ../wav/13a05Ea.wav\n",
       "4         14    anger  ../wav/14a05Wa.wav"
      ]
     },
     "execution_count": 4,
     "metadata": {},
     "output_type": "execute_result"
    }
   ],
   "source": [
    "# Path to dataset\n",
    "PATH = '../wav/'\n",
    "\n",
    "# Emotion codes and their meanings (from German emotion codes)\n",
    "emotion_codes = {\n",
    "    'W': 'anger',\n",
    "    'L': 'boredom',\n",
    "    'E': 'disgust',\n",
    "    'A': 'anxiety',\n",
    "    'F': 'happiness',\n",
    "    'T': 'sadness',\n",
    "    'N': 'neutral'\n",
    "}\n",
    "\n",
    "# Variables to hold data\n",
    "file_emotion = []\n",
    "file_path = []\n",
    "speakers = []\n",
    "\n",
    "# List of audio files in the directory\n",
    "directory_list = os.listdir(PATH)\n",
    "\n",
    "# metadata extraction including SpeakerID and Emotion\n",
    "for file in directory_list:\n",
    "    file_path.append(PATH + file)\n",
    "    speakers.append(int(file[:2]))  # Speaker ID is the first two characters\n",
    "    emotion_code = file[5]  # Emotion code is the sixth character\n",
    "    file_emotion.append(emotion_codes.get(emotion_code, 'Unknown'))  # Map emotion code to emotion\n",
    "\n",
    "\n",
    "\n",
    "# Create DataFrame with metadata\n",
    "emodb_df = pd.DataFrame(list(zip(speakers, file_emotion, file_path)),\n",
    "                        columns=['SpeakerID', 'Emotion', 'Path'])\n",
    "\n",
    "emodb_df.head()"
   ]
  },
  {
   "cell_type": "code",
   "execution_count": 5,
   "id": "fea26643-e1f1-4e24-aba8-e6ff7ef3d88c",
   "metadata": {
    "tags": []
   },
   "outputs": [
    {
     "data": {
      "text/plain": [
       "Emotion\n",
       "anger        127\n",
       "boredom       81\n",
       "neutral       79\n",
       "happiness     71\n",
       "anxiety       69\n",
       "sadness       62\n",
       "disgust       46\n",
       "Name: count, dtype: int64"
      ]
     },
     "execution_count": 5,
     "metadata": {},
     "output_type": "execute_result"
    }
   ],
   "source": [
    "emodb_df['Emotion'].value_counts()"
   ]
  },
  {
   "cell_type": "code",
   "execution_count": 6,
   "id": "930d93ff-4231-4127-9563-74f97873345c",
   "metadata": {
    "tags": []
   },
   "outputs": [
    {
     "data": {
      "text/plain": [
       "<Axes: xlabel='Emotion', ylabel='count'>"
      ]
     },
     "execution_count": 6,
     "metadata": {},
     "output_type": "execute_result"
    },
    {
     "data": {
      "image/png": "[encoded data removed]",
      "text/plain": [
       "<Figure size 640x480 with 1 Axes>"
      ]
     },
     "metadata": {},
     "output_type": "display_data"
    }
   ],
   "source": [
    "sns.countplot(data=emodb_df, x='Emotion')"
   ]
  },
  {
   "cell_type": "code",
   "execution_count": 7,
   "id": "a6746fde-d057-475f-bbd2-5a7dc5168dbf",
   "metadata": {
    "tags": []
   },
   "outputs": [
    {
     "name": "stderr",
     "output_type": "stream",
     "text": [
      "Extracting MFCCs: 100%|██████████| 535/535 [00:03<00:00, 141.44it/s]\n"
     ]
    },
    {
     "data": {
      "text/plain": [
       "(535, 40)"
      ]
     },
     "execution_count": 7,
     "metadata": {},
     "output_type": "execute_result"
    }
   ],
   "source": [
    "# Feature extraction function with MFCC\n",
    "def extract_mfcc(filename):\n",
    "    y, sr = librosa.load(filename, duration=3, offset=0.5)\n",
    "    mfcc = librosa.feature.mfcc(y=y, sr=sr, n_mfcc=40)\n",
    "    return np.mean(mfcc.T, axis=0)\n",
    "\n",
    "# Extract MFCC features\n",
    "X_mfcc = np.array([extract_mfcc(path) for path in tqdm(emodb_df['Path'], desc=\"Extracting MFCCs\")])\n",
    "X_mfcc.shape\n"
   ]
  },
  {
   "cell_type": "code",
   "execution_count": 8,
   "id": "109fa59d-1a3d-4ca7-bdf4-84aea9c8178c",
   "metadata": {
    "tags": []
   },
   "outputs": [
    {
     "data": {
      "text/plain": [
       "(535, 20, 1)"
      ]
     },
     "execution_count": 8,
     "metadata": {},
     "output_type": "execute_result"
    }
   ],
   "source": [
    "# Apply PCA for dimensionality reduction\n",
    "pca = PCA(n_components=20)  # Reducing to 20 components for efficiency\n",
    "X_pca = pca.fit_transform(X_mfcc)\n",
    "\n",
    "\n",
    "\n",
    "# Reshape data for LSTM input\n",
    "X = np.expand_dims(X_pca, -1)\n",
    "X.shape\n"
   ]
  },
  {
   "cell_type": "code",
   "execution_count": 9,
   "id": "df957485-38d7-49f6-a52b-300366c61610",
   "metadata": {
    "tags": []
   },
   "outputs": [
    {
     "data": {
      "text/plain": [
       "(535, 7)"
      ]
     },
     "execution_count": 9,
     "metadata": {},
     "output_type": "execute_result"
    }
   ],
   "source": [
    "# One-hot encode labels\n",
    "enc = OneHotEncoder()\n",
    "y = enc.fit_transform(emodb_df[['Emotion']]).toarray()\n",
    "y.shape\n"
   ]
  },
  {
   "cell_type": "code",
   "execution_count": 10,
   "id": "ff427a55-02dc-464c-aa57-1f11377f8bd0",
   "metadata": {
    "tags": []
   },
   "outputs": [
    {
     "data": {
      "text/html": [
       "<pre style=\"white-space:pre;overflow-x:auto;line-height:normal;font-family:Menlo,'DejaVu Sans Mono',consolas,'Courier New',monospace\"><span style=\"font-weight: bold\">Model: \"sequential\"</span>\n",
       "</pre>\n"
      ],
      "text/plain": [
       "\u001b[1mModel: \"sequential\"\u001b[0m\n"
      ]
     },
     "metadata": {},
     "output_type": "display_data"
    },
    {
     "data": {
      "text/html": [
       "<pre style=\"white-space:pre;overflow-x:auto;line-height:normal;font-family:Menlo,'DejaVu Sans Mono',consolas,'Courier New',monospace\">┏━━━━━━━━━━━━━━━━━━━━━━━━━━━━━━━━━┳━━━━━━━━━━━━━━━━━━━━━━━━┳━━━━━━━━━━━━━━━┓\n",
       "┃<span style=\"font-weight: bold\"> Layer (type)                    </span>┃<span style=\"font-weight: bold\"> Output Shape           </span>┃<span style=\"font-weight: bold\">       Param # </span>┃\n",
       "┡━━━━━━━━━━━━━━━━━━━━━━━━━━━━━━━━━╇━━━━━━━━━━━━━━━━━━━━━━━━╇━━━━━━━━━━━━━━━┩\n",
       "│ lstm (<span style=\"color: #0087ff; text-decoration-color: #0087ff\">LSTM</span>)                     │ (<span style=\"color: #00d7ff; text-decoration-color: #00d7ff\">None</span>, <span style=\"color: #00af00; text-decoration-color: #00af00\">128</span>)            │        <span style=\"color: #00af00; text-decoration-color: #00af00\">66,560</span> │\n",
       "├─────────────────────────────────┼────────────────────────┼───────────────┤\n",
       "│ dropout (<span style=\"color: #0087ff; text-decoration-color: #0087ff\">Dropout</span>)               │ (<span style=\"color: #00d7ff; text-decoration-color: #00d7ff\">None</span>, <span style=\"color: #00af00; text-decoration-color: #00af00\">128</span>)            │             <span style=\"color: #00af00; text-decoration-color: #00af00\">0</span> │\n",
       "├─────────────────────────────────┼────────────────────────┼───────────────┤\n",
       "│ dense (<span style=\"color: #0087ff; text-decoration-color: #0087ff\">Dense</span>)                   │ (<span style=\"color: #00d7ff; text-decoration-color: #00d7ff\">None</span>, <span style=\"color: #00af00; text-decoration-color: #00af00\">64</span>)             │         <span style=\"color: #00af00; text-decoration-color: #00af00\">8,256</span> │\n",
       "├─────────────────────────────────┼────────────────────────┼───────────────┤\n",
       "│ dropout_1 (<span style=\"color: #0087ff; text-decoration-color: #0087ff\">Dropout</span>)             │ (<span style=\"color: #00d7ff; text-decoration-color: #00d7ff\">None</span>, <span style=\"color: #00af00; text-decoration-color: #00af00\">64</span>)             │             <span style=\"color: #00af00; text-decoration-color: #00af00\">0</span> │\n",
       "├─────────────────────────────────┼────────────────────────┼───────────────┤\n",
       "│ dense_1 (<span style=\"color: #0087ff; text-decoration-color: #0087ff\">Dense</span>)                 │ (<span style=\"color: #00d7ff; text-decoration-color: #00d7ff\">None</span>, <span style=\"color: #00af00; text-decoration-color: #00af00\">7</span>)              │           <span style=\"color: #00af00; text-decoration-color: #00af00\">455</span> │\n",
       "└─────────────────────────────────┴────────────────────────┴───────────────┘\n",
       "</pre>\n"
      ],
      "text/plain": [
       "┏━━━━━━━━━━━━━━━━━━━━━━━━━━━━━━━━━┳━━━━━━━━━━━━━━━━━━━━━━━━┳━━━━━━━━━━━━━━━┓\n",
       "┃\u001b[1m \u001b[0m\u001b[1mLayer (type)                   \u001b[0m\u001b[1m \u001b[0m┃\u001b[1m \u001b[0m\u001b[1mOutput Shape          \u001b[0m\u001b[1m \u001b[0m┃\u001b[1m \u001b[0m\u001b[1m      Param #\u001b[0m\u001b[1m \u001b[0m┃\n",
       "┡━━━━━━━━━━━━━━━━━━━━━━━━━━━━━━━━━╇━━━━━━━━━━━━━━━━━━━━━━━━╇━━━━━━━━━━━━━━━┩\n",
       "│ lstm (\u001b[38;5;33mLSTM\u001b[0m)                     │ (\u001b[38;5;45mNone\u001b[0m, \u001b[38;5;34m128\u001b[0m)            │        \u001b[38;5;34m66,560\u001b[0m │\n",
       "├─────────────────────────────────┼────────────────────────┼───────────────┤\n",
       "│ dropout (\u001b[38;5;33mDropout\u001b[0m)               │ (\u001b[38;5;45mNone\u001b[0m, \u001b[38;5;34m128\u001b[0m)            │             \u001b[38;5;34m0\u001b[0m │\n",
       "├─────────────────────────────────┼────────────────────────┼───────────────┤\n",
       "│ dense (\u001b[38;5;33mDense\u001b[0m)                   │ (\u001b[38;5;45mNone\u001b[0m, \u001b[38;5;34m64\u001b[0m)             │         \u001b[38;5;34m8,256\u001b[0m │\n",
       "├─────────────────────────────────┼────────────────────────┼───────────────┤\n",
       "│ dropout_1 (\u001b[38;5;33mDropout\u001b[0m)             │ (\u001b[38;5;45mNone\u001b[0m, \u001b[38;5;34m64\u001b[0m)             │             \u001b[38;5;34m0\u001b[0m │\n",
       "├─────────────────────────────────┼────────────────────────┼───────────────┤\n",
       "│ dense_1 (\u001b[38;5;33mDense\u001b[0m)                 │ (\u001b[38;5;45mNone\u001b[0m, \u001b[38;5;34m7\u001b[0m)              │           \u001b[38;5;34m455\u001b[0m │\n",
       "└─────────────────────────────────┴────────────────────────┴───────────────┘\n"
      ]
     },
     "metadata": {},
     "output_type": "display_data"
    },
    {
     "data": {
      "text/html": [
       "<pre style=\"white-space:pre;overflow-x:auto;line-height:normal;font-family:Menlo,'DejaVu Sans Mono',consolas,'Courier New',monospace\"><span style=\"font-weight: bold\"> Total params: </span><span style=\"color: #00af00; text-decoration-color: #00af00\">75,271</span> (294.03 KB)\n",
       "</pre>\n"
      ],
      "text/plain": [
       "\u001b[1m Total params: \u001b[0m\u001b[38;5;34m75,271\u001b[0m (294.03 KB)\n"
      ]
     },
     "metadata": {},
     "output_type": "display_data"
    },
    {
     "data": {
      "text/html": [
       "<pre style=\"white-space:pre;overflow-x:auto;line-height:normal;font-family:Menlo,'DejaVu Sans Mono',consolas,'Courier New',monospace\"><span style=\"font-weight: bold\"> Trainable params: </span><span style=\"color: #00af00; text-decoration-color: #00af00\">75,271</span> (294.03 KB)\n",
       "</pre>\n"
      ],
      "text/plain": [
       "\u001b[1m Trainable params: \u001b[0m\u001b[38;5;34m75,271\u001b[0m (294.03 KB)\n"
      ]
     },
     "metadata": {},
     "output_type": "display_data"
    },
    {
     "data": {
      "text/html": [
       "<pre style=\"white-space:pre;overflow-x:auto;line-height:normal;font-family:Menlo,'DejaVu Sans Mono',consolas,'Courier New',monospace\"><span style=\"font-weight: bold\"> Non-trainable params: </span><span style=\"color: #00af00; text-decoration-color: #00af00\">0</span> (0.00 B)\n",
       "</pre>\n"
      ],
      "text/plain": [
       "\u001b[1m Non-trainable params: \u001b[0m\u001b[38;5;34m0\u001b[0m (0.00 B)\n"
      ]
     },
     "metadata": {},
     "output_type": "display_data"
    }
   ],
   "source": [
    "model = Sequential([\n",
    "    LSTM(128, input_shape=(X.shape[1], 1), return_sequences=False),\n",
    "    Dropout(0.3),\n",
    "    Dense(64, activation='relu'),\n",
    "    Dropout(0.2),\n",
    "    Dense(len(emotion_codes), activation='softmax')\n",
    "])\n",
    "\n",
    "model.compile(loss='categorical_crossentropy', optimizer='adam', metrics=[AUC(name=\"auc\")])\n",
    "model.summary()\n"
   ]
  },
  {
   "cell_type": "code",
   "execution_count": 11,
   "id": "0d952399-92c9-452c-bcb8-967f4bb42c9a",
   "metadata": {
    "tags": []
   },
   "outputs": [
    {
     "name": "stdout",
     "output_type": "stream",
     "text": [
      "Epoch 1/50\n",
      "\u001b[1m7/7\u001b[0m \u001b[32m━━━━━━━━━━━━━━━━━━━━\u001b[0m\u001b[37m\u001b[0m \u001b[1m1s\u001b[0m 52ms/step - auc: 0.5374 - loss: 1.9330 - val_auc: 0.5487 - val_loss: 1.9245\n",
      "Epoch 2/50\n",
      "\u001b[1m7/7\u001b[0m \u001b[32m━━━━━━━━━━━━━━━━━━━━\u001b[0m\u001b[37m\u001b[0m \u001b[1m0s\u001b[0m 15ms/step - auc: 0.6376 - loss: 1.8593 - val_auc: 0.5410 - val_loss: 1.9806\n",
      "Epoch 3/50\n",
      "\u001b[1m7/7\u001b[0m \u001b[32m━━━━━━━━━━━━━━━━━━━━\u001b[0m\u001b[37m\u001b[0m \u001b[1m0s\u001b[0m 15ms/step - auc: 0.6475 - loss: 1.8411 - val_auc: 0.5539 - val_loss: 1.9637\n",
      "Epoch 4/50\n",
      "\u001b[1m7/7\u001b[0m \u001b[32m━━━━━━━━━━━━━━━━━━━━\u001b[0m\u001b[37m\u001b[0m \u001b[1m0s\u001b[0m 15ms/step - auc: 0.6626 - loss: 1.8093 - val_auc: 0.5834 - val_loss: 1.9260\n",
      "Epoch 5/50\n",
      "\u001b[1m7/7\u001b[0m \u001b[32m━━━━━━━━━━━━━━━━━━━━\u001b[0m\u001b[37m\u001b[0m \u001b[1m0s\u001b[0m 15ms/step - auc: 0.6967 - loss: 1.7733 - val_auc: 0.6097 - val_loss: 1.9218\n",
      "Epoch 6/50\n",
      "\u001b[1m7/7\u001b[0m \u001b[32m━━━━━━━━━━━━━━━━━━━━\u001b[0m\u001b[37m\u001b[0m \u001b[1m0s\u001b[0m 15ms/step - auc: 0.7163 - loss: 1.7252 - val_auc: 0.6409 - val_loss: 1.9157\n",
      "Epoch 7/50\n",
      "\u001b[1m7/7\u001b[0m \u001b[32m━━━━━━━━━━━━━━━━━━━━\u001b[0m\u001b[37m\u001b[0m \u001b[1m0s\u001b[0m 16ms/step - auc: 0.7665 - loss: 1.5952 - val_auc: 0.6912 - val_loss: 1.8233\n",
      "Epoch 8/50\n",
      "\u001b[1m7/7\u001b[0m \u001b[32m━━━━━━━━━━━━━━━━━━━━\u001b[0m\u001b[37m\u001b[0m \u001b[1m0s\u001b[0m 15ms/step - auc: 0.7939 - loss: 1.5321 - val_auc: 0.7087 - val_loss: 1.8131\n",
      "Epoch 9/50\n",
      "\u001b[1m7/7\u001b[0m \u001b[32m━━━━━━━━━━━━━━━━━━━━\u001b[0m\u001b[37m\u001b[0m \u001b[1m0s\u001b[0m 15ms/step - auc: 0.8224 - loss: 1.4329 - val_auc: 0.7469 - val_loss: 1.6567\n",
      "Epoch 10/50\n",
      "\u001b[1m7/7\u001b[0m \u001b[32m━━━━━━━━━━━━━━━━━━━━\u001b[0m\u001b[37m\u001b[0m \u001b[1m0s\u001b[0m 15ms/step - auc: 0.8341 - loss: 1.4072 - val_auc: 0.7461 - val_loss: 1.6700\n",
      "Epoch 11/50\n",
      "\u001b[1m7/7\u001b[0m \u001b[32m━━━━━━━━━━━━━━━━━━━━\u001b[0m\u001b[37m\u001b[0m \u001b[1m0s\u001b[0m 15ms/step - auc: 0.8311 - loss: 1.4004 - val_auc: 0.7378 - val_loss: 1.7301\n",
      "Epoch 12/50\n",
      "\u001b[1m7/7\u001b[0m \u001b[32m━━━━━━━━━━━━━━━━━━━━\u001b[0m\u001b[37m\u001b[0m \u001b[1m0s\u001b[0m 16ms/step - auc: 0.8367 - loss: 1.3849 - val_auc: 0.7484 - val_loss: 1.6531\n",
      "Epoch 13/50\n",
      "\u001b[1m7/7\u001b[0m \u001b[32m━━━━━━━━━━━━━━━━━━━━\u001b[0m\u001b[37m\u001b[0m \u001b[1m0s\u001b[0m 16ms/step - auc: 0.8612 - loss: 1.2962 - val_auc: 0.7528 - val_loss: 1.6848\n",
      "Epoch 14/50\n",
      "\u001b[1m7/7\u001b[0m \u001b[32m━━━━━━━━━━━━━━━━━━━━\u001b[0m\u001b[37m\u001b[0m \u001b[1m0s\u001b[0m 16ms/step - auc: 0.8541 - loss: 1.3144 - val_auc: 0.7552 - val_loss: 1.6573\n",
      "Epoch 15/50\n",
      "\u001b[1m7/7\u001b[0m \u001b[32m━━━━━━━━━━━━━━━━━━━━\u001b[0m\u001b[37m\u001b[0m \u001b[1m0s\u001b[0m 17ms/step - auc: 0.8637 - loss: 1.2665 - val_auc: 0.7632 - val_loss: 1.6427\n",
      "Epoch 16/50\n",
      "\u001b[1m7/7\u001b[0m \u001b[32m━━━━━━━━━━━━━━━━━━━━\u001b[0m\u001b[37m\u001b[0m \u001b[1m0s\u001b[0m 16ms/step - auc: 0.8726 - loss: 1.2275 - val_auc: 0.7664 - val_loss: 1.6378\n",
      "Epoch 17/50\n",
      "\u001b[1m7/7\u001b[0m \u001b[32m━━━━━━━━━━━━━━━━━━━━\u001b[0m\u001b[37m\u001b[0m \u001b[1m0s\u001b[0m 17ms/step - auc: 0.8612 - loss: 1.2810 - val_auc: 0.7708 - val_loss: 1.6162\n",
      "Epoch 18/50\n",
      "\u001b[1m7/7\u001b[0m \u001b[32m━━━━━━━━━━━━━━━━━━━━\u001b[0m\u001b[37m\u001b[0m \u001b[1m0s\u001b[0m 16ms/step - auc: 0.8742 - loss: 1.2149 - val_auc: 0.7676 - val_loss: 1.6984\n",
      "Epoch 19/50\n",
      "\u001b[1m7/7\u001b[0m \u001b[32m━━━━━━━━━━━━━━━━━━━━\u001b[0m\u001b[37m\u001b[0m \u001b[1m0s\u001b[0m 17ms/step - auc: 0.8739 - loss: 1.2167 - val_auc: 0.7783 - val_loss: 1.6056\n",
      "Epoch 20/50\n",
      "\u001b[1m7/7\u001b[0m \u001b[32m━━━━━━━━━━━━━━━━━━━━\u001b[0m\u001b[37m\u001b[0m \u001b[1m0s\u001b[0m 16ms/step - auc: 0.8781 - loss: 1.2048 - val_auc: 0.7660 - val_loss: 1.6386\n",
      "Epoch 21/50\n",
      "\u001b[1m7/7\u001b[0m \u001b[32m━━━━━━━━━━━━━━━━━━━━\u001b[0m\u001b[37m\u001b[0m \u001b[1m0s\u001b[0m 16ms/step - auc: 0.8802 - loss: 1.1968 - val_auc: 0.7782 - val_loss: 1.6520\n",
      "Epoch 22/50\n",
      "\u001b[1m7/7\u001b[0m \u001b[32m━━━━━━━━━━━━━━━━━━━━\u001b[0m\u001b[37m\u001b[0m \u001b[1m0s\u001b[0m 16ms/step - auc: 0.8874 - loss: 1.1502 - val_auc: 0.7789 - val_loss: 1.6136\n",
      "Epoch 23/50\n",
      "\u001b[1m7/7\u001b[0m \u001b[32m━━━━━━━━━━━━━━━━━━━━\u001b[0m\u001b[37m\u001b[0m \u001b[1m0s\u001b[0m 16ms/step - auc: 0.8765 - loss: 1.2146 - val_auc: 0.7802 - val_loss: 1.6325\n",
      "Epoch 24/50\n",
      "\u001b[1m7/7\u001b[0m \u001b[32m━━━━━━━━━━━━━━━━━━━━\u001b[0m\u001b[37m\u001b[0m \u001b[1m0s\u001b[0m 19ms/step - auc: 0.8789 - loss: 1.1974 - val_auc: 0.7783 - val_loss: 1.6505\n",
      "Epoch 25/50\n",
      "\u001b[1m7/7\u001b[0m \u001b[32m━━━━━━━━━━━━━━━━━━━━\u001b[0m\u001b[37m\u001b[0m \u001b[1m0s\u001b[0m 17ms/step - auc: 0.8840 - loss: 1.1719 - val_auc: 0.7786 - val_loss: 1.6119\n",
      "Epoch 26/50\n",
      "\u001b[1m7/7\u001b[0m \u001b[32m━━━━━━━━━━━━━━━━━━━━\u001b[0m\u001b[37m\u001b[0m \u001b[1m0s\u001b[0m 17ms/step - auc: 0.8972 - loss: 1.1055 - val_auc: 0.7855 - val_loss: 1.6129\n",
      "Epoch 27/50\n",
      "\u001b[1m7/7\u001b[0m \u001b[32m━━━━━━━━━━━━━━━━━━━━\u001b[0m\u001b[37m\u001b[0m \u001b[1m0s\u001b[0m 16ms/step - auc: 0.9155 - loss: 1.0041 - val_auc: 0.7854 - val_loss: 1.6290\n",
      "Epoch 28/50\n",
      "\u001b[1m7/7\u001b[0m \u001b[32m━━━━━━━━━━━━━━━━━━━━\u001b[0m\u001b[37m\u001b[0m \u001b[1m0s\u001b[0m 16ms/step - auc: 0.9085 - loss: 1.0493 - val_auc: 0.8025 - val_loss: 1.5420\n",
      "Epoch 29/50\n",
      "\u001b[1m7/7\u001b[0m \u001b[32m━━━━━━━━━━━━━━━━━━━━\u001b[0m\u001b[37m\u001b[0m \u001b[1m0s\u001b[0m 17ms/step - auc: 0.9065 - loss: 1.0552 - val_auc: 0.7868 - val_loss: 1.6407\n",
      "Epoch 30/50\n",
      "\u001b[1m7/7\u001b[0m \u001b[32m━━━━━━━━━━━━━━━━━━━━\u001b[0m\u001b[37m\u001b[0m \u001b[1m0s\u001b[0m 16ms/step - auc: 0.9080 - loss: 1.0439 - val_auc: 0.7992 - val_loss: 1.5958\n",
      "Epoch 31/50\n",
      "\u001b[1m7/7\u001b[0m \u001b[32m━━━━━━━━━━━━━━━━━━━━\u001b[0m\u001b[37m\u001b[0m \u001b[1m0s\u001b[0m 17ms/step - auc: 0.9085 - loss: 1.0391 - val_auc: 0.7886 - val_loss: 1.6277\n",
      "Epoch 32/50\n",
      "\u001b[1m7/7\u001b[0m \u001b[32m━━━━━━━━━━━━━━━━━━━━\u001b[0m\u001b[37m\u001b[0m \u001b[1m0s\u001b[0m 17ms/step - auc: 0.9164 - loss: 0.9955 - val_auc: 0.7961 - val_loss: 1.6179\n",
      "Epoch 33/50\n",
      "\u001b[1m7/7\u001b[0m \u001b[32m━━━━━━━━━━━━━━━━━━━━\u001b[0m\u001b[37m\u001b[0m \u001b[1m0s\u001b[0m 16ms/step - auc: 0.9098 - loss: 1.0307 - val_auc: 0.8019 - val_loss: 1.6141\n",
      "Epoch 34/50\n",
      "\u001b[1m7/7\u001b[0m \u001b[32m━━━━━━━━━━━━━━━━━━━━\u001b[0m\u001b[37m\u001b[0m \u001b[1m0s\u001b[0m 16ms/step - auc: 0.9166 - loss: 0.9925 - val_auc: 0.7918 - val_loss: 1.6550\n",
      "Epoch 35/50\n",
      "\u001b[1m7/7\u001b[0m \u001b[32m━━━━━━━━━━━━━━━━━━━━\u001b[0m\u001b[37m\u001b[0m \u001b[1m0s\u001b[0m 17ms/step - auc: 0.9281 - loss: 0.9241 - val_auc: 0.7928 - val_loss: 1.6492\n",
      "Epoch 36/50\n",
      "\u001b[1m7/7\u001b[0m \u001b[32m━━━━━━━━━━━━━━━━━━━━\u001b[0m\u001b[37m\u001b[0m \u001b[1m0s\u001b[0m 18ms/step - auc: 0.9120 - loss: 1.0211 - val_auc: 0.8005 - val_loss: 1.6455\n",
      "Epoch 37/50\n",
      "\u001b[1m7/7\u001b[0m \u001b[32m━━━━━━━━━━━━━━━━━━━━\u001b[0m\u001b[37m\u001b[0m \u001b[1m0s\u001b[0m 19ms/step - auc: 0.9136 - loss: 1.0091 - val_auc: 0.8024 - val_loss: 1.5862\n",
      "Epoch 38/50\n",
      "\u001b[1m7/7\u001b[0m \u001b[32m━━━━━━━━━━━━━━━━━━━━\u001b[0m\u001b[37m\u001b[0m \u001b[1m0s\u001b[0m 17ms/step - auc: 0.9242 - loss: 0.9503 - val_auc: 0.8029 - val_loss: 1.6268\n",
      "Epoch 39/50\n",
      "\u001b[1m7/7\u001b[0m \u001b[32m━━━━━━━━━━━━━━━━━━━━\u001b[0m\u001b[37m\u001b[0m \u001b[1m0s\u001b[0m 20ms/step - auc: 0.9316 - loss: 0.9072 - val_auc: 0.7974 - val_loss: 1.6448\n",
      "Epoch 40/50\n",
      "\u001b[1m7/7\u001b[0m \u001b[32m━━━━━━━━━━━━━━━━━━━━\u001b[0m\u001b[37m\u001b[0m \u001b[1m0s\u001b[0m 20ms/step - auc: 0.9277 - loss: 0.9289 - val_auc: 0.7960 - val_loss: 1.6370\n",
      "Epoch 41/50\n",
      "\u001b[1m7/7\u001b[0m \u001b[32m━━━━━━━━━━━━━━━━━━━━\u001b[0m\u001b[37m\u001b[0m \u001b[1m0s\u001b[0m 18ms/step - auc: 0.9275 - loss: 0.9355 - val_auc: 0.8018 - val_loss: 1.7269\n",
      "Epoch 42/50\n",
      "\u001b[1m7/7\u001b[0m \u001b[32m━━━━━━━━━━━━━━━━━━━━\u001b[0m\u001b[37m\u001b[0m \u001b[1m0s\u001b[0m 17ms/step - auc: 0.9292 - loss: 0.9143 - val_auc: 0.8136 - val_loss: 1.5649\n",
      "Epoch 43/50\n",
      "\u001b[1m7/7\u001b[0m \u001b[32m━━━━━━━━━━━━━━━━━━━━\u001b[0m\u001b[37m\u001b[0m \u001b[1m0s\u001b[0m 17ms/step - auc: 0.9261 - loss: 0.9371 - val_auc: 0.7931 - val_loss: 1.7337\n",
      "Epoch 44/50\n",
      "\u001b[1m7/7\u001b[0m \u001b[32m━━━━━━━━━━━━━━━━━━━━\u001b[0m\u001b[37m\u001b[0m \u001b[1m0s\u001b[0m 16ms/step - auc: 0.9336 - loss: 0.8860 - val_auc: 0.8046 - val_loss: 1.6335\n",
      "Epoch 45/50\n",
      "\u001b[1m7/7\u001b[0m \u001b[32m━━━━━━━━━━━━━━━━━━━━\u001b[0m\u001b[37m\u001b[0m \u001b[1m0s\u001b[0m 16ms/step - auc: 0.9415 - loss: 0.8369 - val_auc: 0.8057 - val_loss: 1.6277\n",
      "Epoch 46/50\n",
      "\u001b[1m7/7\u001b[0m \u001b[32m━━━━━━━━━━━━━━━━━━━━\u001b[0m\u001b[37m\u001b[0m \u001b[1m0s\u001b[0m 16ms/step - auc: 0.9428 - loss: 0.8262 - val_auc: 0.8149 - val_loss: 1.6125\n",
      "Epoch 47/50\n",
      "\u001b[1m7/7\u001b[0m \u001b[32m━━━━━━━━━━━━━━━━━━━━\u001b[0m\u001b[37m\u001b[0m \u001b[1m0s\u001b[0m 16ms/step - auc: 0.9431 - loss: 0.8169 - val_auc: 0.8042 - val_loss: 1.6507\n",
      "Epoch 48/50\n",
      "\u001b[1m7/7\u001b[0m \u001b[32m━━━━━━━━━━━━━━━━━━━━\u001b[0m\u001b[37m\u001b[0m \u001b[1m0s\u001b[0m 16ms/step - auc: 0.9414 - loss: 0.8347 - val_auc: 0.8132 - val_loss: 1.6419\n",
      "Epoch 49/50\n",
      "\u001b[1m7/7\u001b[0m \u001b[32m━━━━━━━━━━━━━━━━━━━━\u001b[0m\u001b[37m\u001b[0m \u001b[1m0s\u001b[0m 16ms/step - auc: 0.9439 - loss: 0.8155 - val_auc: 0.7955 - val_loss: 1.7663\n",
      "Epoch 50/50\n",
      "\u001b[1m7/7\u001b[0m \u001b[32m━━━━━━━━━━━━━━━━━━━━\u001b[0m\u001b[37m\u001b[0m \u001b[1m0s\u001b[0m 16ms/step - auc: 0.9469 - loss: 0.7897 - val_auc: 0.8082 - val_loss: 1.7139\n"
     ]
    }
   ],
   "source": [
    "# Training the model\n",
    "history = model.fit(X, y, validation_split=0.2, epochs=50, batch_size=64)\n"
   ]
  },
  {
   "cell_type": "code",
   "execution_count": 12,
   "id": "9927aafd-c0c2-4e75-8dbd-d59d4d822834",
   "metadata": {
    "tags": []
   },
   "outputs": [
    {
     "name": "stdout",
     "output_type": "stream",
     "text": [
      "\u001b[1m17/17\u001b[0m \u001b[32m━━━━━━━━━━━━━━━━━━━━\u001b[0m\u001b[37m\u001b[0m \u001b[1m0s\u001b[0m 7ms/step\n",
      "AUC-ROC Score (Macro-Averaged): 0.9271528900926043\n",
      "Classification Report:\n",
      "              precision    recall  f1-score   support\n",
      "\n",
      "       anger       0.67      0.81      0.73       127\n",
      "     anxiety       0.72      0.48      0.57        69\n",
      "     boredom       0.60      0.70      0.65        81\n",
      "     disgust       0.53      0.43      0.48        46\n",
      "   happiness       0.56      0.56      0.56        71\n",
      "     neutral       0.69      0.62      0.65        79\n",
      "     sadness       0.75      0.73      0.74        62\n",
      "\n",
      "    accuracy                           0.65       535\n",
      "   macro avg       0.65      0.62      0.63       535\n",
      "weighted avg       0.65      0.65      0.64       535\n",
      "\n"
     ]
    }
   ],
   "source": [
    "# Predict probabilities for test data and calculate AUC-ROC\n",
    "\n",
    "y_pred_proba = model.predict(X)\n",
    "y_true = y\n",
    "auc_roc = roc_auc_score(y_true, y_pred_proba, average=\"macro\", multi_class=\"ovr\")\n",
    "\n",
    "print(f\"AUC-ROC Score (Macro-Averaged): {auc_roc}\")\n",
    "\n",
    "\n",
    "\n",
    "# Optional: Classification Report\n",
    "y_pred = np.argmax(y_pred_proba, axis=1)\n",
    "y_true_classes = np.argmax(y_true, axis=1)\n",
    "report = classification_report(y_true_classes, y_pred, target_names=enc.categories_[0])\n",
    "print(\"Classification Report:\")\n",
    "print(report)\n"
   ]
  },
  {
   "cell_type": "code",
   "execution_count": 13,
   "id": "021dd10a-43a4-465d-9522-cf711701f12d",
   "metadata": {
    "tags": []
   },
   "outputs": [
    {
     "name": "stderr",
     "output_type": "stream",
     "text": [
      "WARNING:absl:You are saving your model as an HDF5 file via `model.save()` or `keras.saving.save_model(model)`. This file format is considered legacy. We recommend using instead the native Keras format, e.g. `model.save('my_model.keras')` or `keras.saving.save_model(model, 'my_model.keras')`. \n"
     ]
    }
   ],
   "source": [
    "model.save('AUC-ROC.h5')"
   ]
  },
  {
   "cell_type": "code",
   "execution_count": 14,
   "id": "cacf3ae6-c757-46af-9fdd-f598fac1ec09",
   "metadata": {},
   "outputs": [
    {
     "name": "stdout",
     "output_type": "stream",
     "text": [
      "\u001b[1m17/17\u001b[0m \u001b[32m━━━━━━━━━━━━━━━━━━━━\u001b[0m\u001b[37m\u001b[0m \u001b[1m0s\u001b[0m 4ms/step\n"
     ]
    },
    {
     "data": {
      "image/png": "[encoded data removed]",
      "text/plain": [
       "<Figure size 1000x800 with 1 Axes>"
      ]
     },
     "metadata": {},
     "output_type": "display_data"
    }
   ],
   "source": [
    "# Predict probabilities and plot ROC curves for each emotion class\n",
    "y_pred_proba = model.predict(X)\n",
    "\n",
    "plt.figure(figsize=(10, 8))\n",
    "for i, emotion in enumerate(enc.categories_[0]):\n",
    "    fpr, tpr, _ = roc_curve(y[:, i], y_pred_proba[:, i])\n",
    "    roc_auc = auc(fpr, tpr)\n",
    "    plt.plot(fpr, tpr, label=f'{emotion} (AUC = {roc_auc:.2f})')\n",
    "\n",
    "plt.plot([0, 1], [0, 1], 'k--')  # Diagonal line for random guessing\n",
    "plt.xlabel(\"False Positive Rate\")\n",
    "plt.ylabel(\"True Positive Rate\")\n",
    "plt.title(\"ROC Curves by Emotion Class\")\n",
    "plt.legend(loc=\"lower right\")\n",
    "plt.show()\n"
   ]
  },
  {
   "cell_type": "code",
   "execution_count": 27,
   "id": "63a9bb3c-0a7d-4721-a95c-15f49358d5ab",
   "metadata": {
    "tags": []
   },
   "outputs": [
    {
     "name": "stderr",
     "output_type": "stream",
     "text": [
      "WARNING:absl:Compiled the loaded model, but the compiled metrics have yet to be built. `model.compile_metrics` will be empty until you train or evaluate the model.\n"
     ]
    },
    {
     "name": "stdout",
     "output_type": "stream",
     "text": [
      "\u001b[1m1/1\u001b[0m \u001b[32m━━━━━━━━━━━━━━━━━━━━\u001b[0m\u001b[37m\u001b[0m \u001b[1m0s\u001b[0m 136ms/step\n",
      "File: /Users/omedbahtuchi/Downloads/Neue-Aufnahme.wav\n",
      "Predicted Emotion: anger\n",
      "Probabilities:\n",
      " anger: 0.37603259086608887\n",
      " anxiety: 0.19542908668518066\n",
      " boredom: 0.14348046481609344\n",
      " disgust: 0.15427324175834656\n",
      " happiness: 0.009206130169332027\n",
      " neutral: 0.11583703011274338\n",
      " sadness: 0.005741390399634838\n"
     ]
    }
   ],
   "source": [
    "# Load the saved model\n",
    "model = load_model(\"AUC-ROC.h5\")\n",
    "\n",
    "# Function to extract features from new .wav files and predict emotions\n",
    "def predict_emotion_on_new_file(filepath):\n",
    "    # Extract MFCC and apply PCA\n",
    "    mfcc_features = extract_mfcc(filepath).reshape(1, -1)\n",
    "    pca_features = pca.transform(mfcc_features)\n",
    "    pca_features = np.expand_dims(pca_features, -1)\n",
    "\n",
    "    # Predict probabilities\n",
    "    predictions = model.predict(pca_features)\n",
    "    predicted_emotion = enc.categories_[0][np.argmax(predictions)]\n",
    "    return predicted_emotion, predictions\n",
    "\n",
    "new_files = ['/Users/omedbahtuchi/Downloads/Neue-Aufnahme.wav']\n",
    "for file in new_files:\n",
    "    emotion, proba = predict_emotion_on_new_file(file)\n",
    "    print(f\"File: {file}\")\n",
    "    print(f\"Predicted Emotion: {emotion}\")\n",
    "    print(\"Probabilities:\")\n",
    "    for emotion, probability in zip(enc.categories_[0], proba[0]):\n",
    "        print(f\" {emotion}: {probability}\")"
   ]
  },
  {
   "cell_type": "code",
   "execution_count": 26,
   "id": "e44ede5f-26c7-41b2-ba3f-6557d467c729",
   "metadata": {
    "tags": []
   },
   "outputs": [
    {
     "name": "stdout",
     "output_type": "stream",
     "text": [
      "\u001b[1m1/1\u001b[0m \u001b[32m━━━━━━━━━━━━━━━━━━━━\u001b[0m\u001b[37m\u001b[0m \u001b[1m0s\u001b[0m 75ms/step\n",
      "\u001b[1m1/1\u001b[0m \u001b[32m━━━━━━━━━━━━━━━━━━━━\u001b[0m\u001b[37m\u001b[0m \u001b[1m0s\u001b[0m 19ms/step\n",
      "\u001b[1m1/1\u001b[0m \u001b[32m━━━━━━━━━━━━━━━━━━━━\u001b[0m\u001b[37m\u001b[0m \u001b[1m0s\u001b[0m 17ms/step\n",
      "\u001b[1m1/1\u001b[0m \u001b[32m━━━━━━━━━━━━━━━━━━━━\u001b[0m\u001b[37m\u001b[0m \u001b[1m0s\u001b[0m 11ms/step\n",
      "\u001b[1m1/1\u001b[0m \u001b[32m━━━━━━━━━━━━━━━━━━━━\u001b[0m\u001b[37m\u001b[0m \u001b[1m0s\u001b[0m 11ms/step\n",
      "From 0.00s to 2.00s: boredom (Probabilities: [0.05054112 0.09723244 0.38917637 0.1409585  0.00285332 0.303432\n",
      " 0.01580624])\n",
      "From 1.00s to 3.00s: boredom (Probabilities: [0.03028118 0.11363636 0.45201713 0.13544843 0.00241714 0.25415328\n",
      " 0.01204638])\n",
      "From 2.00s to 4.00s: anger (Probabilities: [8.9130843e-01 6.4959422e-02 5.3553451e-03 2.4221839e-02 6.2968200e-03\n",
      " 7.4806758e-03 3.7744816e-04])\n",
      "From 3.00s to 5.00s: boredom (Probabilities: [7.8802528e-03 1.4311188e-02 7.2471952e-01 1.2426331e-02 5.2977807e-04\n",
      " 2.3158771e-01 8.5452776e-03])\n",
      "From 4.00s to 6.00s: anger (Probabilities: [0.35969198 0.19942622 0.22597301 0.08177237 0.00821938 0.11908644\n",
      " 0.00583064])\n"
     ]
    }
   ],
   "source": [
    "def predict_emotions_over_time(filepath, segment_duration=2.0, overlap=1.0):\n",
    "    # Load audio file\n",
    "    y, sr = librosa.load(filepath)\n",
    "    \n",
    "    # Calculate number of samples per segment\n",
    "    segment_samples = int(segment_duration * sr)\n",
    "    overlap_samples = int(overlap * sr)\n",
    "    \n",
    "    # Initialize an empty list to store results\n",
    "    results = []\n",
    "    \n",
    "    # Process each segment\n",
    "    for start in range(0, len(y) - segment_samples + 1, segment_samples - overlap_samples):\n",
    "        # Extract segment\n",
    "        segment = y[start:start + segment_samples]\n",
    "        \n",
    "        # Extract MFCC and apply PCA\n",
    "        mfcc_features = np.mean(librosa.feature.mfcc(y=segment, sr=sr, n_mfcc=40).T, axis=0).reshape(1, -1)\n",
    "        pca_features = pca.transform(mfcc_features)\n",
    "        pca_features = np.expand_dims(pca_features, -1)\n",
    "        \n",
    "        # Predict emotion probabilities\n",
    "        predictions = model.predict(pca_features)\n",
    "        predicted_emotion = enc.categories_[0][np.argmax(predictions)]\n",
    "        \n",
    "        # Calculate the timestamp for the segment\n",
    "        start_time = start / sr\n",
    "        end_time = (start + segment_samples) / sr\n",
    "        \n",
    "        # Append results\n",
    "        results.append({\n",
    "            \"start_time\": start_time,\n",
    "            \"end_time\": end_time,\n",
    "            \"predicted_emotion\": predicted_emotion,\n",
    "            \"probabilities\": predictions[0]\n",
    "        })\n",
    "\n",
    "    return results\n",
    "\n",
    "# Example usage\n",
    "results = predict_emotions_over_time('/Users/omedbahtuchi/Downloads/Neue-Aufnahme.wav')\n",
    "for res in results:\n",
    "    print(f\"From {res['start_time']:.2f}s to {res['end_time']:.2f}s: {res['predicted_emotion']} (Probabilities: {res['probabilities']})\")\n"
   ]
  },
  {
   "cell_type": "code",
   "execution_count": null,
   "id": "9d2b2de2-0671-4979-851d-fd95a1086088",
   "metadata": {},
   "outputs": [],
   "source": []
  },
  {
   "cell_type": "code",
   "execution_count": null,
   "id": "d97c665d-da66-47f8-8d39-b2f597a27fad",
   "metadata": {},
   "outputs": [],
   "source": []
  }
 ],
 "metadata": {
  "kernelspec": {
   "display_name": "Python 3 (ipykernel)",
   "language": "python",
   "name": "python3"
  },
  "language_info": {
   "codemirror_mode": {
    "name": "ipython",
    "version": 3
   },
   "file_extension": ".py",
   "mimetype": "text/x-python",
   "name": "python",
   "nbconvert_exporter": "python",
   "pygments_lexer": "ipython3",
   "version": "3.10.11"
  }
 },
 "nbformat": 4,
 "nbformat_minor": 5
}
