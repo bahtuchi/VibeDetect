{
 "cells": [
  {
   "cell_type": "code",
   "execution_count": 1,
   "id": "7a39dd80-7ff4-44c1-911d-3f8d59740ee3",
   "metadata": {
    "tags": []
   },
   "outputs": [
    {
     "name": "stdout",
     "output_type": "stream",
     "text": [
      "Requirement already satisfied: pandas in /Users/omedbahtuchi/anaconda3/lib/python3.10/site-packages (2.2.3)\n",
      "Requirement already satisfied: pytz>=2020.1 in /Users/omedbahtuchi/anaconda3/lib/python3.10/site-packages (from pandas) (2022.7)\n",
      "Requirement already satisfied: tzdata>=2022.7 in /Users/omedbahtuchi/anaconda3/lib/python3.10/site-packages (from pandas) (2023.3)\n",
      "Requirement already satisfied: python-dateutil>=2.8.2 in /Users/omedbahtuchi/anaconda3/lib/python3.10/site-packages (from pandas) (2.8.2)\n",
      "Requirement already satisfied: numpy>=1.22.4 in /Users/omedbahtuchi/anaconda3/lib/python3.10/site-packages (from pandas) (1.24.3)\n",
      "Requirement already satisfied: six>=1.5 in /Users/omedbahtuchi/anaconda3/lib/python3.10/site-packages (from python-dateutil>=2.8.2->pandas) (1.16.0)\n"
     ]
    }
   ],
   "source": [
    "!pip install pandas --upgrade\n",
    "\n"
   ]
  },
  {
   "cell_type": "code",
   "execution_count": 2,
   "id": "1aa0b40e-5c11-482f-a0c9-7aa4394ac96d",
   "metadata": {
    "tags": []
   },
   "outputs": [],
   "source": [
    "import os\n",
    "import pandas as pd\n",
    "import numpy as np\n",
    "import librosa\n",
    "import librosa.display\n",
    "import seaborn as sns\n",
    "import matplotlib.pyplot as plt\n",
    "from IPython.display import Audio\n",
    "import opensmile\n",
    "import audiofile\n",
    "\n",
    "\n",
    "pd.set_option('display.notebook_repr_html', False)\n"
   ]
  },
  {
   "cell_type": "code",
   "execution_count": 3,
   "id": "b1cd36da-db01-44ff-9c5d-1ebf45d968b6",
   "metadata": {
    "tags": []
   },
   "outputs": [
    {
     "name": "stdout",
     "output_type": "stream",
     "text": [
      "     SpeakerID    Emotion                                               Path\n",
      "0           16    boredom  /Users/omedbahtuchi/Desktop/Masterarbeit/wav/1...\n",
      "1           14      anger  /Users/omedbahtuchi/Desktop/Masterarbeit/wav/1...\n",
      "2           10    anxiety  /Users/omedbahtuchi/Desktop/Masterarbeit/wav/1...\n",
      "3           13    disgust  /Users/omedbahtuchi/Desktop/Masterarbeit/wav/1...\n",
      "4           14      anger  /Users/omedbahtuchi/Desktop/Masterarbeit/wav/1...\n",
      "..         ...        ...                                                ...\n",
      "530          8  happiness  /Users/omedbahtuchi/Desktop/Masterarbeit/wav/0...\n",
      "531          3    anxiety  /Users/omedbahtuchi/Desktop/Masterarbeit/wav/0...\n",
      "532          9    boredom  /Users/omedbahtuchi/Desktop/Masterarbeit/wav/0...\n",
      "533          8    boredom  /Users/omedbahtuchi/Desktop/Masterarbeit/wav/0...\n",
      "534         14    anxiety  /Users/omedbahtuchi/Desktop/Masterarbeit/wav/1...\n",
      "\n",
      "[535 rows x 3 columns]\n"
     ]
    }
   ],
   "source": [
    "## Load the CSV-File\n",
    "\n",
    "PATH = '/Users/omedbahtuchi/Desktop/Masterarbeit/wav/'\n",
    "\n",
    "\n",
    "# Emotion codes and their meanings (comes from German)\n",
    "emotion_codes = {\n",
    "    'W': 'anger',\n",
    "    'L': 'boredom',\n",
    "    'E': 'disgust',\n",
    "    'A': 'anxiety',\n",
    "    'F': 'happiness',\n",
    "    'T': 'sadness',\n",
    "    'N': 'neutral'\n",
    "}\n",
    "\n",
    "# Variables to hold data\n",
    "file_emotion = []\n",
    "file_path = []\n",
    "speakers = []\n",
    "\n",
    "# List of audio files in the EMODB directory (replace 'directory_list' with actual list of files)\n",
    "directory_list = os.listdir(PATH)\n",
    "\n",
    "for file in directory_list:\n",
    "    file_path.append(PATH + file)\n",
    "    speakers.append(int(file[:2]))  # Speaker ID is the first two characters\n",
    "    emotion_code = file[5]  # Emotion code is the sixth character\n",
    "    file_emotion.append(emotion_codes.get(emotion_code, 'Unknown'))  # Map emotion code to emotion\n",
    "\n",
    "# Create DataFrame\n",
    "emodb_df = pd.DataFrame(list(zip(speakers, file_emotion, file_path)),\n",
    "                        columns=['SpeakerID', 'Emotion', 'Path'])\n",
    "\n",
    "print(emodb_df)\n"
   ]
  },
  {
   "cell_type": "code",
   "execution_count": 47,
   "id": "c3cb98eb-e1b4-4b4b-8bab-3672cb917263",
   "metadata": {
    "tags": []
   },
   "outputs": [
    {
     "data": {
      "text/plain": [
       "   SpeakerID     Sex  Age\n",
       "0          3    male   31\n",
       "1          8  female   34\n",
       "2          9  female   21\n",
       "3         10    male   32\n",
       "4         11    male   26\n",
       "5         12    male   30\n",
       "6         13  female   32\n",
       "7         14  female   35\n",
       "8         15    male   25\n",
       "9         16  female   31"
      ]
     },
     "execution_count": 47,
     "metadata": {},
     "output_type": "execute_result"
    }
   ],
   "source": [
    "\n",
    "\n",
    "# Define the demographic data\n",
    "demographic_data = {\n",
    "    'SpeakerID': [3, 8, 9, 10, 11, 12, 13, 14, 15, 16],\n",
    "    'Sex': ['male', 'female', 'female', 'male', 'male', 'male', 'female', 'female', 'male', 'female'],\n",
    "    'Age': [31, 34, 21, 32, 26, 30, 32, 35, 25, 31]\n",
    "}\n",
    "\n",
    "# Create a DataFrame\n",
    "demographics_df = pd.DataFrame(demographic_data)\n",
    "\n",
    "# Print the DataFrame\n",
    "demographics_df\n",
    "\n"
   ]
  },
  {
   "cell_type": "code",
   "execution_count": 51,
   "id": "7cbd2012-b9b7-4cfd-b404-5bc4b87ed823",
   "metadata": {
    "tags": []
   },
   "outputs": [
    {
     "ename": "KeyError",
     "evalue": "'Sex'",
     "output_type": "error",
     "traceback": [
      "\u001b[0;31m---------------------------------------------------------------------------\u001b[0m",
      "\u001b[0;31mKeyError\u001b[0m                                  Traceback (most recent call last)",
      "File \u001b[0;32m~/anaconda3/lib/python3.10/site-packages/pandas/core/indexes/base.py:3652\u001b[0m, in \u001b[0;36mget_loc\u001b[0;34m(self, key)\u001b[0m\n\u001b[1;32m   3651\u001b[0m         \u001b[38;5;28;01mreturn\u001b[39;00m result\u001b[38;5;241m.\u001b[39msort_values()\n\u001b[0;32m-> 3652\u001b[0m     \u001b[38;5;28;01mreturn\u001b[39;00m result\n\u001b[1;32m   3654\u001b[0m \u001b[38;5;28;01mif\u001b[39;00m \u001b[38;5;129;01mnot\u001b[39;00m \u001b[38;5;28mself\u001b[39m\u001b[38;5;241m.\u001b[39m_should_compare(other):\n\u001b[1;32m   3655\u001b[0m     \u001b[38;5;66;03m# Nothing matches -> difference is everything\u001b[39;00m\n",
      "File \u001b[0;32mpandas/_libs/index.pyx:147\u001b[0m, in \u001b[0;36mpandas._libs.index.IndexEngine.get_loc\u001b[0;34m()\u001b[0m\n",
      "File \u001b[0;32mpandas/_libs/index.pyx:176\u001b[0m, in \u001b[0;36mpandas._libs.index.IndexEngine.get_loc\u001b[0;34m()\u001b[0m\n",
      "File \u001b[0;32mpandas/_libs/hashtable_class_helper.pxi:7080\u001b[0m, in \u001b[0;36mpandas._libs.hashtable.PyObjectHashTable.get_item\u001b[0;34m()\u001b[0m\n",
      "File \u001b[0;32mpandas/_libs/hashtable_class_helper.pxi:7088\u001b[0m, in \u001b[0;36mpandas._libs.hashtable.PyObjectHashTable.get_item\u001b[0;34m()\u001b[0m\n",
      "\u001b[0;31mKeyError\u001b[0m: 'Sex'",
      "\nThe above exception was the direct cause of the following exception:\n",
      "\u001b[0;31mKeyError\u001b[0m                                  Traceback (most recent call last)",
      "Cell \u001b[0;32mIn[51], line 13\u001b[0m\n\u001b[1;32m     10\u001b[0m emodb_df \u001b[38;5;241m=\u001b[39m pd\u001b[38;5;241m.\u001b[39mmerge(emodb_df, demographics_df, on\u001b[38;5;241m=\u001b[39m\u001b[38;5;124m'\u001b[39m\u001b[38;5;124mSpeakerID\u001b[39m\u001b[38;5;124m'\u001b[39m, how\u001b[38;5;241m=\u001b[39m\u001b[38;5;124m'\u001b[39m\u001b[38;5;124mleft\u001b[39m\u001b[38;5;124m'\u001b[39m)\n\u001b[1;32m     12\u001b[0m \u001b[38;5;66;03m# Step 4: Check and clean up the 'Sex' column for any missing or unexpected values\u001b[39;00m\n\u001b[0;32m---> 13\u001b[0m \u001b[38;5;28mprint\u001b[39m(\u001b[43memodb_df\u001b[49m\u001b[43m[\u001b[49m\u001b[38;5;124;43m'\u001b[39;49m\u001b[38;5;124;43mSex\u001b[39;49m\u001b[38;5;124;43m'\u001b[39;49m\u001b[43m]\u001b[49m\u001b[38;5;241m.\u001b[39munique())  \u001b[38;5;66;03m# Inspect the unique values in the 'Sex' column\u001b[39;00m\n\u001b[1;32m     14\u001b[0m emodb_df[\u001b[38;5;124m'\u001b[39m\u001b[38;5;124mSex\u001b[39m\u001b[38;5;124m'\u001b[39m]\u001b[38;5;241m.\u001b[39mfillna(\u001b[38;5;124m'\u001b[39m\u001b[38;5;124mUnknown\u001b[39m\u001b[38;5;124m'\u001b[39m, inplace\u001b[38;5;241m=\u001b[39m\u001b[38;5;28;01mTrue\u001b[39;00m)  \u001b[38;5;66;03m# Replace any NaN values with 'Unknown' if needed\u001b[39;00m\n\u001b[1;32m     16\u001b[0m \u001b[38;5;66;03m# Step 5: Visualize the count of emotions by sex using seaborn\u001b[39;00m\n",
      "File \u001b[0;32m~/anaconda3/lib/python3.10/site-packages/pandas/core/frame.py:3761\u001b[0m, in \u001b[0;36m__getitem__\u001b[0;34m(self, key)\u001b[0m\n\u001b[1;32m   3755\u001b[0m result \u001b[38;5;241m=\u001b[39m \u001b[38;5;28mself\u001b[39m\u001b[38;5;241m.\u001b[39m_constructor_sliced(\n\u001b[1;32m   3756\u001b[0m     [c\u001b[38;5;241m.\u001b[39mmemory_usage(index\u001b[38;5;241m=\u001b[39m\u001b[38;5;28;01mFalse\u001b[39;00m, deep\u001b[38;5;241m=\u001b[39mdeep) \u001b[38;5;28;01mfor\u001b[39;00m col, c \u001b[38;5;129;01min\u001b[39;00m \u001b[38;5;28mself\u001b[39m\u001b[38;5;241m.\u001b[39mitems()],\n\u001b[1;32m   3757\u001b[0m     index\u001b[38;5;241m=\u001b[39m\u001b[38;5;28mself\u001b[39m\u001b[38;5;241m.\u001b[39mcolumns,\n\u001b[1;32m   3758\u001b[0m     dtype\u001b[38;5;241m=\u001b[39mnp\u001b[38;5;241m.\u001b[39mintp,\n\u001b[1;32m   3759\u001b[0m )\n\u001b[1;32m   3760\u001b[0m \u001b[38;5;28;01mif\u001b[39;00m index:\n\u001b[0;32m-> 3761\u001b[0m     index_memory_usage \u001b[38;5;241m=\u001b[39m \u001b[38;5;28mself\u001b[39m\u001b[38;5;241m.\u001b[39m_constructor_sliced(\n\u001b[1;32m   3762\u001b[0m         \u001b[38;5;28mself\u001b[39m\u001b[38;5;241m.\u001b[39mindex\u001b[38;5;241m.\u001b[39mmemory_usage(deep\u001b[38;5;241m=\u001b[39mdeep), index\u001b[38;5;241m=\u001b[39m[\u001b[38;5;124m\"\u001b[39m\u001b[38;5;124mIndex\u001b[39m\u001b[38;5;124m\"\u001b[39m]\n\u001b[1;32m   3763\u001b[0m     )\n\u001b[1;32m   3764\u001b[0m     result \u001b[38;5;241m=\u001b[39m index_memory_usage\u001b[38;5;241m.\u001b[39m_append(result)\n\u001b[1;32m   3765\u001b[0m \u001b[38;5;28;01mreturn\u001b[39;00m result\n",
      "File \u001b[0;32m~/anaconda3/lib/python3.10/site-packages/pandas/core/indexes/base.py:3654\u001b[0m, in \u001b[0;36mget_loc\u001b[0;34m(self, key)\u001b[0m\n\u001b[1;32m   3651\u001b[0m         \u001b[38;5;28;01mreturn\u001b[39;00m result\u001b[38;5;241m.\u001b[39msort_values()\n\u001b[1;32m   3652\u001b[0m     \u001b[38;5;28;01mreturn\u001b[39;00m result\n\u001b[0;32m-> 3654\u001b[0m \u001b[38;5;28;01mif\u001b[39;00m \u001b[38;5;129;01mnot\u001b[39;00m \u001b[38;5;28mself\u001b[39m\u001b[38;5;241m.\u001b[39m_should_compare(other):\n\u001b[1;32m   3655\u001b[0m     \u001b[38;5;66;03m# Nothing matches -> difference is everything\u001b[39;00m\n\u001b[1;32m   3656\u001b[0m     result \u001b[38;5;241m=\u001b[39m \u001b[38;5;28mself\u001b[39m\u001b[38;5;241m.\u001b[39munique()\u001b[38;5;241m.\u001b[39mrename(result_name)\n\u001b[1;32m   3657\u001b[0m     \u001b[38;5;28;01mif\u001b[39;00m sort \u001b[38;5;129;01mis\u001b[39;00m \u001b[38;5;28;01mTrue\u001b[39;00m:\n",
      "\u001b[0;31mKeyError\u001b[0m: 'Sex'"
     ]
    }
   ],
   "source": [
    "# Assuming `emodb_df` is your main DataFrame and `demographics_df` contains demographic information.\n",
    "# Step 1: Extract the filename from the path and get the SpeakerID\n",
    "emodb_df['Filename'] = emodb_df['Path'].apply(lambda x: os.path.basename(x))  # Extract the filename from the path\n",
    "emodb_df['SpeakerID'] = emodb_df['Filename'].str[:2].astype(int)  # Extract SpeakerID from the filename (first two characters)\n",
    "\n",
    "# Step 2: Ensure SpeakerID in demographics_df is also of type int\n",
    "demographics_df['SpeakerID'] = demographics_df['SpeakerID'].astype(int)\n",
    "\n",
    "# Step 3: Merge emodb_df with demographics_df on SpeakerID\n",
    "emodb_df = pd.merge(emodb_df, demographics_df, on='SpeakerID', how='left')\n",
    "\n",
    "# Step 4: Check and clean up the 'Sex' column for any missing or unexpected values\n",
    "print(emodb_df['Sex'].unique())  # Inspect the unique values in the 'Sex' column\n",
    "emodb_df['Sex'].fillna('Unknown', inplace=True)  # Replace any NaN values with 'Unknown' if needed\n",
    "\n",
    "# Step 5: Visualize the count of emotions by sex using seaborn\n",
    "plt.figure(figsize=(10, 6))\n",
    "sns.countplot(data=emodb_df, x='Emotion', hue='Sex')\n",
    "plt.title('Count of Emotions by Sex in EMODB')\n",
    "plt.xlabel('Emotion')\n",
    "plt.ylabel('Count')\n",
    "sns.despine()\n",
    "plt.show()\n"
   ]
  },
  {
   "cell_type": "code",
   "execution_count": 50,
   "id": "b9cb1b34-2aee-4e8e-84ad-161d42bf8ffe",
   "metadata": {
    "tags": []
   },
   "outputs": [
    {
     "name": "stdout",
     "output_type": "stream",
     "text": [
      "Index(['SpeakerID', 'Emotion', 'Path', 'Filename', 'Sex', 'Age'], dtype='object')\n"
     ]
    }
   ],
   "source": [
    "print(emodb_df.columns)\n"
   ]
  },
  {
   "cell_type": "code",
   "execution_count": null,
   "id": "5e0e02c6-c441-4ee5-806d-4188e7263b1e",
   "metadata": {},
   "outputs": [],
   "source": []
  }
 ],
 "metadata": {
  "kernelspec": {
   "display_name": "Python 3 (ipykernel)",
   "language": "python",
   "name": "python3"
  },
  "language_info": {
   "codemirror_mode": {
    "name": "ipython",
    "version": 3
   },
   "file_extension": ".py",
   "mimetype": "text/x-python",
   "name": "python",
   "nbconvert_exporter": "python",
   "pygments_lexer": "ipython3",
   "version": "3.10.11"
  }
 },
 "nbformat": 4,
 "nbformat_minor": 5
}
